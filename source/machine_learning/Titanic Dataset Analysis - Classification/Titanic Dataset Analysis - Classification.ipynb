{
 "cells": [
  {
   "cell_type": "code",
   "execution_count": 1,
   "id": "f7bb7abe",
   "metadata": {
    "_cell_guid": "b1076dfc-b9ad-4769-8c92-a6c4dae69d19",
    "_uuid": "8f2839f25d086af736a60e9eeb907d3b93b6e0e5",
    "execution": {
     "iopub.execute_input": "2021-10-26T14:39:51.720863Z",
     "iopub.status.busy": "2021-10-26T14:39:51.719743Z",
     "iopub.status.idle": "2021-10-26T14:39:51.732529Z",
     "shell.execute_reply": "2021-10-26T14:39:51.731846Z",
     "shell.execute_reply.started": "2021-10-26T13:18:09.103774Z"
    },
    "papermill": {
     "duration": 0.054999,
     "end_time": "2021-10-26T14:39:51.732722",
     "exception": false,
     "start_time": "2021-10-26T14:39:51.677723",
     "status": "completed"
    },
    "tags": [],
    "ExecuteTime": {
     "end_time": "2023-12-03T14:06:33.275726Z",
     "start_time": "2023-12-03T14:06:33.249104Z"
    }
   },
   "outputs": [],
   "source": [
    "# This Python 3 environment comes with many helpful analytics libraries installed\n",
    "# It is defined by the kaggle/python Docker image: https://github.com/kaggle/docker-python\n",
    "# For example, here's several helpful packages to load\n",
    "\n",
    "import numpy as np # linear algebra\n",
    "import pandas as pd # data processing, CSV file I/O (e.g. pd.read_csv)\n",
    "\n",
    "# Input data files are available in the read-only \"../input/\" directory\n",
    "# For example, running this (by clicking run or pressing Shift+Enter) will list all files under the input directory\n",
    "\n",
    "import os\n",
    "for dirname, _, filenames in os.walk('/kaggle/input'):\n",
    "    for filename in filenames:\n",
    "        print(os.path.join(dirname, filename))\n",
    "\n",
    "# You can write up to 20GB to the current directory (/kaggle/working/) that gets preserved as output when you create a version using \"Save & Run All\" \n",
    "# You can also write temporary files to /kaggle/temp/, but they won't be saved outside of the current session"
   ]
  },
  {
   "cell_type": "markdown",
   "id": "934aa4df",
   "metadata": {
    "papermill": {
     "duration": 0.0372,
     "end_time": "2021-10-26T14:39:51.809118",
     "exception": false,
     "start_time": "2021-10-26T14:39:51.771918",
     "status": "completed"
    },
    "tags": []
   },
   "source": [
    "## Import Modules"
   ]
  },
  {
   "cell_type": "code",
   "execution_count": 2,
   "id": "de34f80e",
   "metadata": {
    "execution": {
     "iopub.execute_input": "2021-10-26T14:39:51.888410Z",
     "iopub.status.busy": "2021-10-26T14:39:51.887376Z",
     "iopub.status.idle": "2021-10-26T14:39:52.718602Z",
     "shell.execute_reply": "2021-10-26T14:39:52.719300Z",
     "shell.execute_reply.started": "2021-10-26T13:19:51.044248Z"
    },
    "papermill": {
     "duration": 0.872959,
     "end_time": "2021-10-26T14:39:52.719543",
     "exception": false,
     "start_time": "2021-10-26T14:39:51.846584",
     "status": "completed"
    },
    "tags": [],
    "ExecuteTime": {
     "end_time": "2023-12-03T14:18:28.820892Z",
     "start_time": "2023-12-03T14:18:28.151080Z"
    }
   },
   "outputs": [],
   "source": [
    "import pandas as pd\n",
    "import numpy as np\n",
    "import seaborn as sns\n",
    "import matplotlib.pyplot as plt\n",
    "import warnings\n",
    "warnings.filterwarnings('ignore')\n",
    "%matplotlib inline"
   ]
  },
  {
   "cell_type": "markdown",
   "id": "94f44317",
   "metadata": {
    "papermill": {
     "duration": 0.037974,
     "end_time": "2021-10-26T14:39:52.801957",
     "exception": false,
     "start_time": "2021-10-26T14:39:52.763983",
     "status": "completed"
    },
    "tags": []
   },
   "source": [
    "## Loading the dataset"
   ]
  },
  {
   "cell_type": "code",
   "execution_count": 3,
   "id": "03ad8c9f",
   "metadata": {
    "execution": {
     "iopub.execute_input": "2021-10-26T14:39:52.882450Z",
     "iopub.status.busy": "2021-10-26T14:39:52.881503Z",
     "iopub.status.idle": "2021-10-26T14:39:52.929823Z",
     "shell.execute_reply": "2021-10-26T14:39:52.930296Z",
     "shell.execute_reply.started": "2021-10-26T13:21:10.553394Z"
    },
    "papermill": {
     "duration": 0.090114,
     "end_time": "2021-10-26T14:39:52.930465",
     "exception": false,
     "start_time": "2021-10-26T14:39:52.840351",
     "status": "completed"
    },
    "tags": [],
    "ExecuteTime": {
     "end_time": "2023-12-03T14:18:31.767874Z",
     "start_time": "2023-12-03T14:18:30.826411Z"
    }
   },
   "outputs": [
    {
     "data": {
      "text/plain": "   PassengerId  Survived  Pclass  \\\n0            1         0       3   \n1            2         1       1   \n2            3         1       3   \n3            4         1       1   \n4            5         0       3   \n\n                                                Name     Sex   Age  SibSp  \\\n0                            Braund, Mr. Owen Harris    male  22.0      1   \n1  Cumings, Mrs. John Bradley (Florence Briggs Th...  female  38.0      1   \n2                             Heikkinen, Miss. Laina  female  26.0      0   \n3       Futrelle, Mrs. Jacques Heath (Lily May Peel)  female  35.0      1   \n4                           Allen, Mr. William Henry    male  35.0      0   \n\n   Parch            Ticket     Fare Cabin Embarked  \n0      0         A/5 21171   7.2500   NaN        S  \n1      0          PC 17599  71.2833   C85        C  \n2      0  STON/O2. 3101282   7.9250   NaN        S  \n3      0            113803  53.1000  C123        S  \n4      0            373450   8.0500   NaN        S  ",
      "text/html": "<div>\n<style scoped>\n    .dataframe tbody tr th:only-of-type {\n        vertical-align: middle;\n    }\n\n    .dataframe tbody tr th {\n        vertical-align: top;\n    }\n\n    .dataframe thead th {\n        text-align: right;\n    }\n</style>\n<table border=\"1\" class=\"dataframe\">\n  <thead>\n    <tr style=\"text-align: right;\">\n      <th></th>\n      <th>PassengerId</th>\n      <th>Survived</th>\n      <th>Pclass</th>\n      <th>Name</th>\n      <th>Sex</th>\n      <th>Age</th>\n      <th>SibSp</th>\n      <th>Parch</th>\n      <th>Ticket</th>\n      <th>Fare</th>\n      <th>Cabin</th>\n      <th>Embarked</th>\n    </tr>\n  </thead>\n  <tbody>\n    <tr>\n      <th>0</th>\n      <td>1</td>\n      <td>0</td>\n      <td>3</td>\n      <td>Braund, Mr. Owen Harris</td>\n      <td>male</td>\n      <td>22.0</td>\n      <td>1</td>\n      <td>0</td>\n      <td>A/5 21171</td>\n      <td>7.2500</td>\n      <td>NaN</td>\n      <td>S</td>\n    </tr>\n    <tr>\n      <th>1</th>\n      <td>2</td>\n      <td>1</td>\n      <td>1</td>\n      <td>Cumings, Mrs. John Bradley (Florence Briggs Th...</td>\n      <td>female</td>\n      <td>38.0</td>\n      <td>1</td>\n      <td>0</td>\n      <td>PC 17599</td>\n      <td>71.2833</td>\n      <td>C85</td>\n      <td>C</td>\n    </tr>\n    <tr>\n      <th>2</th>\n      <td>3</td>\n      <td>1</td>\n      <td>3</td>\n      <td>Heikkinen, Miss. Laina</td>\n      <td>female</td>\n      <td>26.0</td>\n      <td>0</td>\n      <td>0</td>\n      <td>STON/O2. 3101282</td>\n      <td>7.9250</td>\n      <td>NaN</td>\n      <td>S</td>\n    </tr>\n    <tr>\n      <th>3</th>\n      <td>4</td>\n      <td>1</td>\n      <td>1</td>\n      <td>Futrelle, Mrs. Jacques Heath (Lily May Peel)</td>\n      <td>female</td>\n      <td>35.0</td>\n      <td>1</td>\n      <td>0</td>\n      <td>113803</td>\n      <td>53.1000</td>\n      <td>C123</td>\n      <td>S</td>\n    </tr>\n    <tr>\n      <th>4</th>\n      <td>5</td>\n      <td>0</td>\n      <td>3</td>\n      <td>Allen, Mr. William Henry</td>\n      <td>male</td>\n      <td>35.0</td>\n      <td>0</td>\n      <td>0</td>\n      <td>373450</td>\n      <td>8.0500</td>\n      <td>NaN</td>\n      <td>S</td>\n    </tr>\n  </tbody>\n</table>\n</div>"
     },
     "execution_count": 3,
     "metadata": {},
     "output_type": "execute_result"
    }
   ],
   "source": [
    "train = pd.read_csv('train.csv')\n",
    "test = pd.read_csv('test.csv')\n",
    "train.head()"
   ]
  },
  {
   "cell_type": "code",
   "execution_count": 4,
   "id": "1df61dfd",
   "metadata": {
    "execution": {
     "iopub.execute_input": "2021-10-26T14:39:53.084632Z",
     "iopub.status.busy": "2021-10-26T14:39:53.083988Z",
     "iopub.status.idle": "2021-10-26T14:39:53.109876Z",
     "shell.execute_reply": "2021-10-26T14:39:53.109377Z",
     "shell.execute_reply.started": "2021-10-26T13:21:55.779366Z"
    },
    "papermill": {
     "duration": 0.080848,
     "end_time": "2021-10-26T14:39:53.110020",
     "exception": false,
     "start_time": "2021-10-26T14:39:53.029172",
     "status": "completed"
    },
    "tags": [],
    "ExecuteTime": {
     "end_time": "2023-12-03T14:18:36.325264Z",
     "start_time": "2023-12-03T14:18:35.858679Z"
    }
   },
   "outputs": [
    {
     "data": {
      "text/plain": "       PassengerId    Survived      Pclass         Age       SibSp  \\\ncount   891.000000  891.000000  891.000000  714.000000  891.000000   \nmean    446.000000    0.383838    2.308642   29.699118    0.523008   \nstd     257.353842    0.486592    0.836071   14.526497    1.102743   \nmin       1.000000    0.000000    1.000000    0.420000    0.000000   \n25%     223.500000    0.000000    2.000000   20.125000    0.000000   \n50%     446.000000    0.000000    3.000000   28.000000    0.000000   \n75%     668.500000    1.000000    3.000000   38.000000    1.000000   \nmax     891.000000    1.000000    3.000000   80.000000    8.000000   \n\n            Parch        Fare  \ncount  891.000000  891.000000  \nmean     0.381594   32.204208  \nstd      0.806057   49.693429  \nmin      0.000000    0.000000  \n25%      0.000000    7.910400  \n50%      0.000000   14.454200  \n75%      0.000000   31.000000  \nmax      6.000000  512.329200  ",
      "text/html": "<div>\n<style scoped>\n    .dataframe tbody tr th:only-of-type {\n        vertical-align: middle;\n    }\n\n    .dataframe tbody tr th {\n        vertical-align: top;\n    }\n\n    .dataframe thead th {\n        text-align: right;\n    }\n</style>\n<table border=\"1\" class=\"dataframe\">\n  <thead>\n    <tr style=\"text-align: right;\">\n      <th></th>\n      <th>PassengerId</th>\n      <th>Survived</th>\n      <th>Pclass</th>\n      <th>Age</th>\n      <th>SibSp</th>\n      <th>Parch</th>\n      <th>Fare</th>\n    </tr>\n  </thead>\n  <tbody>\n    <tr>\n      <th>count</th>\n      <td>891.000000</td>\n      <td>891.000000</td>\n      <td>891.000000</td>\n      <td>714.000000</td>\n      <td>891.000000</td>\n      <td>891.000000</td>\n      <td>891.000000</td>\n    </tr>\n    <tr>\n      <th>mean</th>\n      <td>446.000000</td>\n      <td>0.383838</td>\n      <td>2.308642</td>\n      <td>29.699118</td>\n      <td>0.523008</td>\n      <td>0.381594</td>\n      <td>32.204208</td>\n    </tr>\n    <tr>\n      <th>std</th>\n      <td>257.353842</td>\n      <td>0.486592</td>\n      <td>0.836071</td>\n      <td>14.526497</td>\n      <td>1.102743</td>\n      <td>0.806057</td>\n      <td>49.693429</td>\n    </tr>\n    <tr>\n      <th>min</th>\n      <td>1.000000</td>\n      <td>0.000000</td>\n      <td>1.000000</td>\n      <td>0.420000</td>\n      <td>0.000000</td>\n      <td>0.000000</td>\n      <td>0.000000</td>\n    </tr>\n    <tr>\n      <th>25%</th>\n      <td>223.500000</td>\n      <td>0.000000</td>\n      <td>2.000000</td>\n      <td>20.125000</td>\n      <td>0.000000</td>\n      <td>0.000000</td>\n      <td>7.910400</td>\n    </tr>\n    <tr>\n      <th>50%</th>\n      <td>446.000000</td>\n      <td>0.000000</td>\n      <td>3.000000</td>\n      <td>28.000000</td>\n      <td>0.000000</td>\n      <td>0.000000</td>\n      <td>14.454200</td>\n    </tr>\n    <tr>\n      <th>75%</th>\n      <td>668.500000</td>\n      <td>1.000000</td>\n      <td>3.000000</td>\n      <td>38.000000</td>\n      <td>1.000000</td>\n      <td>0.000000</td>\n      <td>31.000000</td>\n    </tr>\n    <tr>\n      <th>max</th>\n      <td>891.000000</td>\n      <td>1.000000</td>\n      <td>3.000000</td>\n      <td>80.000000</td>\n      <td>8.000000</td>\n      <td>6.000000</td>\n      <td>512.329200</td>\n    </tr>\n  </tbody>\n</table>\n</div>"
     },
     "execution_count": 4,
     "metadata": {},
     "output_type": "execute_result"
    }
   ],
   "source": [
    "## statistical info\n",
    "train.describe()"
   ]
  },
  {
   "cell_type": "code",
   "execution_count": 5,
   "id": "3faf3530",
   "metadata": {
    "execution": {
     "iopub.execute_input": "2021-10-26T14:39:53.202353Z",
     "iopub.status.busy": "2021-10-26T14:39:53.201388Z",
     "iopub.status.idle": "2021-10-26T14:39:53.215660Z",
     "shell.execute_reply": "2021-10-26T14:39:53.216145Z",
     "shell.execute_reply.started": "2021-10-26T13:23:20.513055Z"
    },
    "papermill": {
     "duration": 0.056979,
     "end_time": "2021-10-26T14:39:53.216348",
     "exception": false,
     "start_time": "2021-10-26T14:39:53.159369",
     "status": "completed"
    },
    "tags": [],
    "ExecuteTime": {
     "end_time": "2023-12-03T14:18:39.306022Z",
     "start_time": "2023-12-03T14:18:38.690470Z"
    }
   },
   "outputs": [
    {
     "name": "stdout",
     "output_type": "stream",
     "text": [
      "<class 'pandas.core.frame.DataFrame'>\n",
      "RangeIndex: 891 entries, 0 to 890\n",
      "Data columns (total 12 columns):\n",
      " #   Column       Non-Null Count  Dtype  \n",
      "---  ------       --------------  -----  \n",
      " 0   PassengerId  891 non-null    int64  \n",
      " 1   Survived     891 non-null    int64  \n",
      " 2   Pclass       891 non-null    int64  \n",
      " 3   Name         891 non-null    object \n",
      " 4   Sex          891 non-null    object \n",
      " 5   Age          714 non-null    float64\n",
      " 6   SibSp        891 non-null    int64  \n",
      " 7   Parch        891 non-null    int64  \n",
      " 8   Ticket       891 non-null    object \n",
      " 9   Fare         891 non-null    float64\n",
      " 10  Cabin        204 non-null    object \n",
      " 11  Embarked     889 non-null    object \n",
      "dtypes: float64(2), int64(5), object(5)\n",
      "memory usage: 83.7+ KB\n"
     ]
    }
   ],
   "source": [
    "## datatype info\n",
    "train.info()"
   ]
  },
  {
   "cell_type": "markdown",
   "id": "ca24760e",
   "metadata": {
    "papermill": {
     "duration": 0.038578,
     "end_time": "2021-10-26T14:39:53.296624",
     "exception": false,
     "start_time": "2021-10-26T14:39:53.258046",
     "status": "completed"
    },
    "tags": []
   },
   "source": [
    "## Exploratory Data Analysis"
   ]
  },
  {
   "cell_type": "code",
   "execution_count": 6,
   "id": "6cdb115f",
   "metadata": {
    "execution": {
     "iopub.execute_input": "2021-10-26T14:39:53.378047Z",
     "iopub.status.busy": "2021-10-26T14:39:53.377139Z",
     "iopub.status.idle": "2021-10-26T14:39:53.575683Z",
     "shell.execute_reply": "2021-10-26T14:39:53.575023Z",
     "shell.execute_reply.started": "2021-10-26T13:25:41.086474Z"
    },
    "papermill": {
     "duration": 0.240071,
     "end_time": "2021-10-26T14:39:53.575827",
     "exception": false,
     "start_time": "2021-10-26T14:39:53.335756",
     "status": "completed"
    },
    "tags": [],
    "ExecuteTime": {
     "end_time": "2023-12-03T14:19:13.544407Z",
     "start_time": "2023-12-03T14:18:41.648641Z"
    }
   },
   "outputs": [
    {
     "data": {
      "text/plain": "<Axes: ylabel='count'>"
     },
     "execution_count": 6,
     "metadata": {},
     "output_type": "execute_result"
    },
    {
     "data": {
      "text/plain": "<Figure size 640x480 with 1 Axes>",
      "image/png": "[encoded data removed]"
     },
     "metadata": {},
     "output_type": "display_data"
    }
   ],
   "source": [
    "## categorical attributes\n",
    "sns.countplot(train['Survived'])"
   ]
  },
  {
   "cell_type": "code",
   "execution_count": 7,
   "id": "dcbe44e3",
   "metadata": {
    "execution": {
     "iopub.execute_input": "2021-10-26T14:39:53.670347Z",
     "iopub.status.busy": "2021-10-26T14:39:53.664403Z",
     "iopub.status.idle": "2021-10-26T14:39:53.843226Z",
     "shell.execute_reply": "2021-10-26T14:39:53.842340Z",
     "shell.execute_reply.started": "2021-10-26T13:26:41.213085Z"
    },
    "papermill": {
     "duration": 0.222447,
     "end_time": "2021-10-26T14:39:53.843428",
     "exception": false,
     "start_time": "2021-10-26T14:39:53.620981",
     "status": "completed"
    },
    "tags": [],
    "ExecuteTime": {
     "end_time": "2023-12-03T14:20:01.667149Z",
     "start_time": "2023-12-03T14:19:26.152235Z"
    }
   },
   "outputs": [
    {
     "data": {
      "text/plain": "<Axes: ylabel='count'>"
     },
     "execution_count": 7,
     "metadata": {},
     "output_type": "execute_result"
    },
    {
     "data": {
      "text/plain": "<Figure size 640x480 with 1 Axes>",
      "image/png": "[encoded data removed]"
     },
     "metadata": {},
     "output_type": "display_data"
    }
   ],
   "source": [
    "sns.countplot(train['Pclass'])"
   ]
  },
  {
   "cell_type": "code",
   "execution_count": 8,
   "id": "d3bd90c7",
   "metadata": {
    "execution": {
     "iopub.execute_input": "2021-10-26T14:39:53.935573Z",
     "iopub.status.busy": "2021-10-26T14:39:53.934517Z",
     "iopub.status.idle": "2021-10-26T14:39:54.202833Z",
     "shell.execute_reply": "2021-10-26T14:39:54.203417Z",
     "shell.execute_reply.started": "2021-10-26T13:27:27.939456Z"
    },
    "papermill": {
     "duration": 0.315432,
     "end_time": "2021-10-26T14:39:54.203593",
     "exception": false,
     "start_time": "2021-10-26T14:39:53.888161",
     "status": "completed"
    },
    "tags": [],
    "ExecuteTime": {
     "end_time": "2023-12-03T14:20:07.789004Z",
     "start_time": "2023-12-03T14:20:05.885553Z"
    }
   },
   "outputs": [
    {
     "data": {
      "text/plain": "<Axes: xlabel='count', ylabel='Sex'>"
     },
     "execution_count": 8,
     "metadata": {},
     "output_type": "execute_result"
    },
    {
     "data": {
      "text/plain": "<Figure size 640x480 with 1 Axes>",
      "image/png": "[encoded data removed]"
     },
     "metadata": {},
     "output_type": "display_data"
    }
   ],
   "source": [
    "sns.countplot(train['Sex'])"
   ]
  },
  {
   "cell_type": "code",
   "execution_count": 9,
   "id": "6f6c6759",
   "metadata": {
    "execution": {
     "iopub.execute_input": "2021-10-26T14:39:54.289757Z",
     "iopub.status.busy": "2021-10-26T14:39:54.288835Z",
     "iopub.status.idle": "2021-10-26T14:39:54.495329Z",
     "shell.execute_reply": "2021-10-26T14:39:54.495790Z",
     "shell.execute_reply.started": "2021-10-26T13:29:04.567981Z"
    },
    "papermill": {
     "duration": 0.250733,
     "end_time": "2021-10-26T14:39:54.495967",
     "exception": false,
     "start_time": "2021-10-26T14:39:54.245234",
     "status": "completed"
    },
    "tags": [],
    "ExecuteTime": {
     "end_time": "2023-12-03T14:20:40.473713Z",
     "start_time": "2023-12-03T14:20:09.887358Z"
    }
   },
   "outputs": [
    {
     "data": {
      "text/plain": "<Axes: ylabel='count'>"
     },
     "execution_count": 9,
     "metadata": {},
     "output_type": "execute_result"
    },
    {
     "data": {
      "text/plain": "<Figure size 640x480 with 1 Axes>",
      "image/png": "[encoded data removed]"
     },
     "metadata": {},
     "output_type": "display_data"
    }
   ],
   "source": [
    "sns.countplot(train['SibSp'])"
   ]
  },
  {
   "cell_type": "code",
   "execution_count": 10,
   "id": "948a6add",
   "metadata": {
    "execution": {
     "iopub.execute_input": "2021-10-26T14:39:54.583880Z",
     "iopub.status.busy": "2021-10-26T14:39:54.583279Z",
     "iopub.status.idle": "2021-10-26T14:39:54.803053Z",
     "shell.execute_reply": "2021-10-26T14:39:54.802274Z",
     "shell.execute_reply.started": "2021-10-26T13:30:11.698675Z"
    },
    "papermill": {
     "duration": 0.264688,
     "end_time": "2021-10-26T14:39:54.803265",
     "exception": false,
     "start_time": "2021-10-26T14:39:54.538577",
     "status": "completed"
    },
    "tags": [],
    "ExecuteTime": {
     "end_time": "2023-12-03T14:21:35.875841Z",
     "start_time": "2023-12-03T14:21:08.862629Z"
    }
   },
   "outputs": [
    {
     "data": {
      "text/plain": "<Axes: ylabel='count'>"
     },
     "execution_count": 10,
     "metadata": {},
     "output_type": "execute_result"
    },
    {
     "data": {
      "text/plain": "<Figure size 640x480 with 1 Axes>",
      "image/png": "[encoded data removed]"
     },
     "metadata": {},
     "output_type": "display_data"
    }
   ],
   "source": [
    "sns.countplot(train['Parch'])"
   ]
  },
  {
   "cell_type": "code",
   "execution_count": 11,
   "id": "3f1ee980",
   "metadata": {
    "execution": {
     "iopub.execute_input": "2021-10-26T14:39:54.906333Z",
     "iopub.status.busy": "2021-10-26T14:39:54.905692Z",
     "iopub.status.idle": "2021-10-26T14:39:55.077437Z",
     "shell.execute_reply": "2021-10-26T14:39:55.076885Z",
     "shell.execute_reply.started": "2021-10-26T13:31:06.116850Z"
    },
    "papermill": {
     "duration": 0.221603,
     "end_time": "2021-10-26T14:39:55.077587",
     "exception": false,
     "start_time": "2021-10-26T14:39:54.855984",
     "status": "completed"
    },
    "tags": [],
    "ExecuteTime": {
     "end_time": "2023-12-03T14:21:41.766173Z",
     "start_time": "2023-12-03T14:21:40.270219Z"
    }
   },
   "outputs": [
    {
     "data": {
      "text/plain": "<Axes: xlabel='count', ylabel='Embarked'>"
     },
     "execution_count": 11,
     "metadata": {},
     "output_type": "execute_result"
    },
    {
     "data": {
      "text/plain": "<Figure size 640x480 with 1 Axes>",
      "image/png": "[encoded data removed]"
     },
     "metadata": {},
     "output_type": "display_data"
    }
   ],
   "source": [
    "sns.countplot(train['Embarked'])"
   ]
  },
  {
   "cell_type": "code",
   "execution_count": 12,
   "id": "727367c6",
   "metadata": {
    "execution": {
     "iopub.execute_input": "2021-10-26T14:39:55.192513Z",
     "iopub.status.busy": "2021-10-26T14:39:55.190965Z",
     "iopub.status.idle": "2021-10-26T14:39:55.431975Z",
     "shell.execute_reply": "2021-10-26T14:39:55.432497Z",
     "shell.execute_reply.started": "2021-10-26T13:32:30.355026Z"
    },
    "papermill": {
     "duration": 0.311216,
     "end_time": "2021-10-26T14:39:55.432668",
     "exception": false,
     "start_time": "2021-10-26T14:39:55.121452",
     "status": "completed"
    },
    "tags": [],
    "ExecuteTime": {
     "end_time": "2023-12-03T14:21:54.526267Z",
     "start_time": "2023-12-03T14:21:52.718222Z"
    }
   },
   "outputs": [
    {
     "data": {
      "text/plain": "<Axes: xlabel='Age', ylabel='Density'>"
     },
     "execution_count": 12,
     "metadata": {},
     "output_type": "execute_result"
    },
    {
     "data": {
      "text/plain": "<Figure size 640x480 with 1 Axes>",
      "image/png": "[encoded data removed]"
     },
     "metadata": {},
     "output_type": "display_data"
    }
   ],
   "source": [
    "## numerical attributes\n",
    "sns.distplot(train['Age'])"
   ]
  },
  {
   "cell_type": "code",
   "execution_count": 13,
   "id": "3710f683",
   "metadata": {
    "execution": {
     "iopub.execute_input": "2021-10-26T14:39:55.534637Z",
     "iopub.status.busy": "2021-10-26T14:39:55.527902Z",
     "iopub.status.idle": "2021-10-26T14:39:55.834222Z",
     "shell.execute_reply": "2021-10-26T14:39:55.834677Z",
     "shell.execute_reply.started": "2021-10-26T13:33:45.287868Z"
    },
    "papermill": {
     "duration": 0.354661,
     "end_time": "2021-10-26T14:39:55.834852",
     "exception": false,
     "start_time": "2021-10-26T14:39:55.480191",
     "status": "completed"
    },
    "tags": [],
    "ExecuteTime": {
     "end_time": "2023-12-03T14:22:38.088892Z",
     "start_time": "2023-12-03T14:22:35.999990Z"
    }
   },
   "outputs": [
    {
     "data": {
      "text/plain": "<Axes: xlabel='Fare', ylabel='Density'>"
     },
     "execution_count": 13,
     "metadata": {},
     "output_type": "execute_result"
    },
    {
     "data": {
      "text/plain": "<Figure size 640x480 with 1 Axes>",
      "image/png": "[encoded data removed]"
     },
     "metadata": {},
     "output_type": "display_data"
    }
   ],
   "source": [
    "sns.distplot(train['Fare'])"
   ]
  },
  {
   "cell_type": "code",
   "execution_count": 14,
   "id": "07ce6816",
   "metadata": {
    "execution": {
     "iopub.execute_input": "2021-10-26T14:39:55.929219Z",
     "iopub.status.busy": "2021-10-26T14:39:55.928472Z",
     "iopub.status.idle": "2021-10-26T14:39:56.139991Z",
     "shell.execute_reply": "2021-10-26T14:39:56.140472Z",
     "shell.execute_reply.started": "2021-10-26T13:38:28.742151Z"
    },
    "papermill": {
     "duration": 0.260207,
     "end_time": "2021-10-26T14:39:56.140666",
     "exception": false,
     "start_time": "2021-10-26T14:39:55.880459",
     "status": "completed"
    },
    "tags": [],
    "ExecuteTime": {
     "end_time": "2023-12-03T14:22:40.595547Z",
     "start_time": "2023-12-03T14:22:39.437654Z"
    }
   },
   "outputs": [
    {
     "data": {
      "text/plain": "<Figure size 640x480 with 1 Axes>",
      "image/png": "[encoded data removed]"
     },
     "metadata": {},
     "output_type": "display_data"
    }
   ],
   "source": [
    "class_fare = train.pivot_table(index='Pclass', values='Fare')\n",
    "class_fare.plot(kind='bar')\n",
    "plt.xlabel('Pclass')\n",
    "plt.ylabel('Avg. Fare')\n",
    "plt.xticks(rotation=0)\n",
    "plt.show()"
   ]
  },
  {
   "cell_type": "code",
   "execution_count": 15,
   "id": "0c60b697",
   "metadata": {
    "execution": {
     "iopub.execute_input": "2021-10-26T14:39:56.264235Z",
     "iopub.status.busy": "2021-10-26T14:39:56.242190Z",
     "iopub.status.idle": "2021-10-26T14:39:56.430974Z",
     "shell.execute_reply": "2021-10-26T14:39:56.430462Z",
     "shell.execute_reply.started": "2021-10-26T13:40:18.120856Z"
    },
    "papermill": {
     "duration": 0.244072,
     "end_time": "2021-10-26T14:39:56.431124",
     "exception": false,
     "start_time": "2021-10-26T14:39:56.187052",
     "status": "completed"
    },
    "tags": [],
    "ExecuteTime": {
     "end_time": "2023-12-03T14:23:01.739787Z",
     "start_time": "2023-12-03T14:23:00.780253Z"
    }
   },
   "outputs": [
    {
     "data": {
      "text/plain": "<Figure size 640x480 with 1 Axes>",
      "image/png": "[encoded data removed]"
     },
     "metadata": {},
     "output_type": "display_data"
    }
   ],
   "source": [
    "class_fare = train.pivot_table(index='Pclass', values='Fare', aggfunc=np.sum)\n",
    "class_fare.plot(kind='bar')\n",
    "plt.xlabel('Pclass')\n",
    "plt.ylabel('Total Fare')\n",
    "plt.xticks(rotation=0)\n",
    "plt.show()"
   ]
  },
  {
   "cell_type": "code",
   "execution_count": 16,
   "id": "ec21cf92",
   "metadata": {
    "execution": {
     "iopub.execute_input": "2021-10-26T14:39:56.532517Z",
     "iopub.status.busy": "2021-10-26T14:39:56.531632Z",
     "iopub.status.idle": "2021-10-26T14:39:56.886572Z",
     "shell.execute_reply": "2021-10-26T14:39:56.887221Z",
     "shell.execute_reply.started": "2021-10-26T14:02:58.353459Z"
    },
    "papermill": {
     "duration": 0.407463,
     "end_time": "2021-10-26T14:39:56.887414",
     "exception": false,
     "start_time": "2021-10-26T14:39:56.479951",
     "status": "completed"
    },
    "tags": [],
    "ExecuteTime": {
     "end_time": "2023-12-03T14:23:25.332904Z",
     "start_time": "2023-12-03T14:23:22.668906Z"
    }
   },
   "outputs": [
    {
     "data": {
      "text/plain": "<Axes: xlabel='Pclass', ylabel='Fare'>"
     },
     "execution_count": 16,
     "metadata": {},
     "output_type": "execute_result"
    },
    {
     "data": {
      "text/plain": "<Figure size 640x480 with 1 Axes>",
      "image/png": "[encoded data removed]"
     },
     "metadata": {},
     "output_type": "display_data"
    }
   ],
   "source": [
    "sns.barplot(data=train, x='Pclass', y='Fare', hue='Survived')"
   ]
  },
  {
   "cell_type": "code",
   "execution_count": 17,
   "id": "410f48d8",
   "metadata": {
    "execution": {
     "iopub.execute_input": "2021-10-26T14:39:56.988094Z",
     "iopub.status.busy": "2021-10-26T14:39:56.987164Z",
     "iopub.status.idle": "2021-10-26T14:39:57.342916Z",
     "shell.execute_reply": "2021-10-26T14:39:57.342238Z",
     "shell.execute_reply.started": "2021-10-26T14:04:41.016891Z"
    },
    "papermill": {
     "duration": 0.407863,
     "end_time": "2021-10-26T14:39:57.343064",
     "exception": false,
     "start_time": "2021-10-26T14:39:56.935201",
     "status": "completed"
    },
    "tags": [],
    "ExecuteTime": {
     "end_time": "2023-12-03T14:23:34.786045Z",
     "start_time": "2023-12-03T14:23:32.416187Z"
    }
   },
   "outputs": [
    {
     "data": {
      "text/plain": "<Axes: xlabel='Survived', ylabel='Fare'>"
     },
     "execution_count": 17,
     "metadata": {},
     "output_type": "execute_result"
    },
    {
     "data": {
      "text/plain": "<Figure size 640x480 with 1 Axes>",
      "image/png": "[encoded data removed]"
     },
     "metadata": {},
     "output_type": "display_data"
    }
   ],
   "source": [
    "sns.barplot(data=train, x='Survived', y='Fare', hue='Pclass')"
   ]
  },
  {
   "cell_type": "markdown",
   "id": "d24508e0",
   "metadata": {
    "papermill": {
     "duration": 0.048157,
     "end_time": "2021-10-26T14:39:57.439959",
     "exception": false,
     "start_time": "2021-10-26T14:39:57.391802",
     "status": "completed"
    },
    "tags": []
   },
   "source": [
    "## Data Preprocessing"
   ]
  },
  {
   "cell_type": "code",
   "execution_count": 18,
   "id": "1b5dd15a",
   "metadata": {
    "execution": {
     "iopub.execute_input": "2021-10-26T14:39:57.547626Z",
     "iopub.status.busy": "2021-10-26T14:39:57.544956Z",
     "iopub.status.idle": "2021-10-26T14:39:57.563157Z",
     "shell.execute_reply": "2021-10-26T14:39:57.562637Z",
     "shell.execute_reply.started": "2021-10-26T13:56:37.131490Z"
    },
    "papermill": {
     "duration": 0.074167,
     "end_time": "2021-10-26T14:39:57.563338",
     "exception": false,
     "start_time": "2021-10-26T14:39:57.489171",
     "status": "completed"
    },
    "tags": [],
    "ExecuteTime": {
     "end_time": "2023-12-03T14:23:49.512335Z",
     "start_time": "2023-12-03T14:23:49.330275Z"
    }
   },
   "outputs": [
    {
     "data": {
      "text/plain": "   PassengerId  Survived  Pclass  \\\n0            1       0.0       3   \n1            2       1.0       1   \n2            3       1.0       3   \n3            4       1.0       1   \n4            5       0.0       3   \n\n                                                Name     Sex   Age  SibSp  \\\n0                            Braund, Mr. Owen Harris    male  22.0      1   \n1  Cumings, Mrs. John Bradley (Florence Briggs Th...  female  38.0      1   \n2                             Heikkinen, Miss. Laina  female  26.0      0   \n3       Futrelle, Mrs. Jacques Heath (Lily May Peel)  female  35.0      1   \n4                           Allen, Mr. William Henry    male  35.0      0   \n\n   Parch            Ticket     Fare Cabin Embarked  \n0      0         A/5 21171   7.2500   NaN        S  \n1      0          PC 17599  71.2833   C85        C  \n2      0  STON/O2. 3101282   7.9250   NaN        S  \n3      0            113803  53.1000  C123        S  \n4      0            373450   8.0500   NaN        S  ",
      "text/html": "<div>\n<style scoped>\n    .dataframe tbody tr th:only-of-type {\n        vertical-align: middle;\n    }\n\n    .dataframe tbody tr th {\n        vertical-align: top;\n    }\n\n    .dataframe thead th {\n        text-align: right;\n    }\n</style>\n<table border=\"1\" class=\"dataframe\">\n  <thead>\n    <tr style=\"text-align: right;\">\n      <th></th>\n      <th>PassengerId</th>\n      <th>Survived</th>\n      <th>Pclass</th>\n      <th>Name</th>\n      <th>Sex</th>\n      <th>Age</th>\n      <th>SibSp</th>\n      <th>Parch</th>\n      <th>Ticket</th>\n      <th>Fare</th>\n      <th>Cabin</th>\n      <th>Embarked</th>\n    </tr>\n  </thead>\n  <tbody>\n    <tr>\n      <th>0</th>\n      <td>1</td>\n      <td>0.0</td>\n      <td>3</td>\n      <td>Braund, Mr. Owen Harris</td>\n      <td>male</td>\n      <td>22.0</td>\n      <td>1</td>\n      <td>0</td>\n      <td>A/5 21171</td>\n      <td>7.2500</td>\n      <td>NaN</td>\n      <td>S</td>\n    </tr>\n    <tr>\n      <th>1</th>\n      <td>2</td>\n      <td>1.0</td>\n      <td>1</td>\n      <td>Cumings, Mrs. John Bradley (Florence Briggs Th...</td>\n      <td>female</td>\n      <td>38.0</td>\n      <td>1</td>\n      <td>0</td>\n      <td>PC 17599</td>\n      <td>71.2833</td>\n      <td>C85</td>\n      <td>C</td>\n    </tr>\n    <tr>\n      <th>2</th>\n      <td>3</td>\n      <td>1.0</td>\n      <td>3</td>\n      <td>Heikkinen, Miss. Laina</td>\n      <td>female</td>\n      <td>26.0</td>\n      <td>0</td>\n      <td>0</td>\n      <td>STON/O2. 3101282</td>\n      <td>7.9250</td>\n      <td>NaN</td>\n      <td>S</td>\n    </tr>\n    <tr>\n      <th>3</th>\n      <td>4</td>\n      <td>1.0</td>\n      <td>1</td>\n      <td>Futrelle, Mrs. Jacques Heath (Lily May Peel)</td>\n      <td>female</td>\n      <td>35.0</td>\n      <td>1</td>\n      <td>0</td>\n      <td>113803</td>\n      <td>53.1000</td>\n      <td>C123</td>\n      <td>S</td>\n    </tr>\n    <tr>\n      <th>4</th>\n      <td>5</td>\n      <td>0.0</td>\n      <td>3</td>\n      <td>Allen, Mr. William Henry</td>\n      <td>male</td>\n      <td>35.0</td>\n      <td>0</td>\n      <td>0</td>\n      <td>373450</td>\n      <td>8.0500</td>\n      <td>NaN</td>\n      <td>S</td>\n    </tr>\n  </tbody>\n</table>\n</div>"
     },
     "execution_count": 18,
     "metadata": {},
     "output_type": "execute_result"
    }
   ],
   "source": [
    "train_len = len(train)\n",
    "# combine two dataframes\n",
    "df = pd.concat([train, test], axis=0)\n",
    "df = df.reset_index(drop=True)\n",
    "df.head()"
   ]
  },
  {
   "cell_type": "code",
   "execution_count": 19,
   "id": "2a31831b",
   "metadata": {
    "execution": {
     "iopub.execute_input": "2021-10-26T14:39:57.668381Z",
     "iopub.status.busy": "2021-10-26T14:39:57.667723Z",
     "iopub.status.idle": "2021-10-26T14:39:57.679110Z",
     "shell.execute_reply": "2021-10-26T14:39:57.679678Z",
     "shell.execute_reply.started": "2021-10-26T13:56:39.579192Z"
    },
    "papermill": {
     "duration": 0.065557,
     "end_time": "2021-10-26T14:39:57.679841",
     "exception": false,
     "start_time": "2021-10-26T14:39:57.614284",
     "status": "completed"
    },
    "tags": [],
    "ExecuteTime": {
     "end_time": "2023-12-03T14:23:52.067181Z",
     "start_time": "2023-12-03T14:23:51.649280Z"
    }
   },
   "outputs": [
    {
     "data": {
      "text/plain": "      PassengerId  Survived  Pclass                          Name     Sex  \\\n1304         1305       NaN       3            Spector, Mr. Woolf    male   \n1305         1306       NaN       1  Oliva y Ocana, Dona. Fermina  female   \n1306         1307       NaN       3  Saether, Mr. Simon Sivertsen    male   \n1307         1308       NaN       3           Ware, Mr. Frederick    male   \n1308         1309       NaN       3      Peter, Master. Michael J    male   \n\n       Age  SibSp  Parch              Ticket      Fare Cabin Embarked  \n1304   NaN      0      0           A.5. 3236    8.0500   NaN        S  \n1305  39.0      0      0            PC 17758  108.9000  C105        C  \n1306  38.5      0      0  SOTON/O.Q. 3101262    7.2500   NaN        S  \n1307   NaN      0      0              359309    8.0500   NaN        S  \n1308   NaN      1      1                2668   22.3583   NaN        C  ",
      "text/html": "<div>\n<style scoped>\n    .dataframe tbody tr th:only-of-type {\n        vertical-align: middle;\n    }\n\n    .dataframe tbody tr th {\n        vertical-align: top;\n    }\n\n    .dataframe thead th {\n        text-align: right;\n    }\n</style>\n<table border=\"1\" class=\"dataframe\">\n  <thead>\n    <tr style=\"text-align: right;\">\n      <th></th>\n      <th>PassengerId</th>\n      <th>Survived</th>\n      <th>Pclass</th>\n      <th>Name</th>\n      <th>Sex</th>\n      <th>Age</th>\n      <th>SibSp</th>\n      <th>Parch</th>\n      <th>Ticket</th>\n      <th>Fare</th>\n      <th>Cabin</th>\n      <th>Embarked</th>\n    </tr>\n  </thead>\n  <tbody>\n    <tr>\n      <th>1304</th>\n      <td>1305</td>\n      <td>NaN</td>\n      <td>3</td>\n      <td>Spector, Mr. Woolf</td>\n      <td>male</td>\n      <td>NaN</td>\n      <td>0</td>\n      <td>0</td>\n      <td>A.5. 3236</td>\n      <td>8.0500</td>\n      <td>NaN</td>\n      <td>S</td>\n    </tr>\n    <tr>\n      <th>1305</th>\n      <td>1306</td>\n      <td>NaN</td>\n      <td>1</td>\n      <td>Oliva y Ocana, Dona. Fermina</td>\n      <td>female</td>\n      <td>39.0</td>\n      <td>0</td>\n      <td>0</td>\n      <td>PC 17758</td>\n      <td>108.9000</td>\n      <td>C105</td>\n      <td>C</td>\n    </tr>\n    <tr>\n      <th>1306</th>\n      <td>1307</td>\n      <td>NaN</td>\n      <td>3</td>\n      <td>Saether, Mr. Simon Sivertsen</td>\n      <td>male</td>\n      <td>38.5</td>\n      <td>0</td>\n      <td>0</td>\n      <td>SOTON/O.Q. 3101262</td>\n      <td>7.2500</td>\n      <td>NaN</td>\n      <td>S</td>\n    </tr>\n    <tr>\n      <th>1307</th>\n      <td>1308</td>\n      <td>NaN</td>\n      <td>3</td>\n      <td>Ware, Mr. Frederick</td>\n      <td>male</td>\n      <td>NaN</td>\n      <td>0</td>\n      <td>0</td>\n      <td>359309</td>\n      <td>8.0500</td>\n      <td>NaN</td>\n      <td>S</td>\n    </tr>\n    <tr>\n      <th>1308</th>\n      <td>1309</td>\n      <td>NaN</td>\n      <td>3</td>\n      <td>Peter, Master. Michael J</td>\n      <td>male</td>\n      <td>NaN</td>\n      <td>1</td>\n      <td>1</td>\n      <td>2668</td>\n      <td>22.3583</td>\n      <td>NaN</td>\n      <td>C</td>\n    </tr>\n  </tbody>\n</table>\n</div>"
     },
     "execution_count": 19,
     "metadata": {},
     "output_type": "execute_result"
    }
   ],
   "source": [
    "df.tail()"
   ]
  },
  {
   "cell_type": "code",
   "execution_count": 20,
   "id": "30cd102b",
   "metadata": {
    "execution": {
     "iopub.execute_input": "2021-10-26T14:39:57.781612Z",
     "iopub.status.busy": "2021-10-26T14:39:57.780995Z",
     "iopub.status.idle": "2021-10-26T14:39:57.788191Z",
     "shell.execute_reply": "2021-10-26T14:39:57.788710Z",
     "shell.execute_reply.started": "2021-10-26T13:56:43.674630Z"
    },
    "papermill": {
     "duration": 0.059742,
     "end_time": "2021-10-26T14:39:57.788872",
     "exception": false,
     "start_time": "2021-10-26T14:39:57.729130",
     "status": "completed"
    },
    "tags": [],
    "ExecuteTime": {
     "end_time": "2023-12-03T14:23:53.783349Z",
     "start_time": "2023-12-03T14:23:53.579044Z"
    }
   },
   "outputs": [
    {
     "data": {
      "text/plain": "PassengerId       0\nSurvived        418\nPclass            0\nName              0\nSex               0\nAge             263\nSibSp             0\nParch             0\nTicket            0\nFare              1\nCabin          1014\nEmbarked          2\ndtype: int64"
     },
     "execution_count": 20,
     "metadata": {},
     "output_type": "execute_result"
    }
   ],
   "source": [
    "## find the null values\n",
    "df.isnull().sum()"
   ]
  },
  {
   "cell_type": "code",
   "execution_count": 21,
   "id": "6348c916",
   "metadata": {
    "execution": {
     "iopub.execute_input": "2021-10-26T14:39:57.891301Z",
     "iopub.status.busy": "2021-10-26T14:39:57.890660Z",
     "iopub.status.idle": "2021-10-26T14:39:57.894729Z",
     "shell.execute_reply": "2021-10-26T14:39:57.895276Z",
     "shell.execute_reply.started": "2021-10-26T13:56:43.767948Z"
    },
    "papermill": {
     "duration": 0.057113,
     "end_time": "2021-10-26T14:39:57.895471",
     "exception": false,
     "start_time": "2021-10-26T14:39:57.838358",
     "status": "completed"
    },
    "tags": [],
    "ExecuteTime": {
     "end_time": "2023-12-03T14:23:55.080539Z",
     "start_time": "2023-12-03T14:23:54.973104Z"
    }
   },
   "outputs": [],
   "source": [
    "# drop or delete the column\n",
    "df = df.drop(columns=['Cabin'], axis=1)"
   ]
  },
  {
   "cell_type": "code",
   "execution_count": 22,
   "id": "4ab016ab",
   "metadata": {
    "execution": {
     "iopub.execute_input": "2021-10-26T14:39:57.998471Z",
     "iopub.status.busy": "2021-10-26T14:39:57.997812Z",
     "iopub.status.idle": "2021-10-26T14:39:58.002901Z",
     "shell.execute_reply": "2021-10-26T14:39:58.003485Z",
     "shell.execute_reply.started": "2021-10-26T13:56:44.085547Z"
    },
    "papermill": {
     "duration": 0.058866,
     "end_time": "2021-10-26T14:39:58.003680",
     "exception": false,
     "start_time": "2021-10-26T14:39:57.944814",
     "status": "completed"
    },
    "tags": [],
    "ExecuteTime": {
     "end_time": "2023-12-03T14:23:56.695521Z",
     "start_time": "2023-12-03T14:23:56.339126Z"
    }
   },
   "outputs": [
    {
     "data": {
      "text/plain": "29.881137667304014"
     },
     "execution_count": 22,
     "metadata": {},
     "output_type": "execute_result"
    }
   ],
   "source": [
    "df['Age'].mean()"
   ]
  },
  {
   "cell_type": "code",
   "execution_count": 23,
   "id": "237a0e0d",
   "metadata": {
    "execution": {
     "iopub.execute_input": "2021-10-26T14:39:58.109798Z",
     "iopub.status.busy": "2021-10-26T14:39:58.108381Z",
     "iopub.status.idle": "2021-10-26T14:39:58.112490Z",
     "shell.execute_reply": "2021-10-26T14:39:58.112970Z",
     "shell.execute_reply.started": "2021-10-26T13:56:44.222872Z"
    },
    "papermill": {
     "duration": 0.058801,
     "end_time": "2021-10-26T14:39:58.113135",
     "exception": false,
     "start_time": "2021-10-26T14:39:58.054334",
     "status": "completed"
    },
    "tags": [],
    "ExecuteTime": {
     "end_time": "2023-12-03T14:23:58.329495Z",
     "start_time": "2023-12-03T14:23:57.845823Z"
    }
   },
   "outputs": [],
   "source": [
    "# fill missing values using mean of the numerical column\n",
    "df['Age'] = df['Age'].fillna(df['Age'].mean())\n",
    "df['Fare'] = df['Fare'].fillna(df['Fare'].mean())"
   ]
  },
  {
   "cell_type": "code",
   "execution_count": 24,
   "id": "b595cdd7",
   "metadata": {
    "execution": {
     "iopub.execute_input": "2021-10-26T14:39:58.218629Z",
     "iopub.status.busy": "2021-10-26T14:39:58.218015Z",
     "iopub.status.idle": "2021-10-26T14:39:58.220186Z",
     "shell.execute_reply": "2021-10-26T14:39:58.220740Z",
     "shell.execute_reply.started": "2021-10-26T13:56:44.592316Z"
    },
    "papermill": {
     "duration": 0.05757,
     "end_time": "2021-10-26T14:39:58.220901",
     "exception": false,
     "start_time": "2021-10-26T14:39:58.163331",
     "status": "completed"
    },
    "tags": [],
    "ExecuteTime": {
     "end_time": "2023-12-03T14:23:58.925205Z",
     "start_time": "2023-12-03T14:23:58.737384Z"
    }
   },
   "outputs": [
    {
     "data": {
      "text/plain": "'S'"
     },
     "execution_count": 24,
     "metadata": {},
     "output_type": "execute_result"
    }
   ],
   "source": [
    "df['Embarked'].mode()[0]"
   ]
  },
  {
   "cell_type": "code",
   "execution_count": 25,
   "id": "4ba56936",
   "metadata": {
    "execution": {
     "iopub.execute_input": "2021-10-26T14:39:58.327206Z",
     "iopub.status.busy": "2021-10-26T14:39:58.326640Z",
     "iopub.status.idle": "2021-10-26T14:39:58.328630Z",
     "shell.execute_reply": "2021-10-26T14:39:58.329061Z",
     "shell.execute_reply.started": "2021-10-26T13:56:44.876390Z"
    },
    "papermill": {
     "duration": 0.058328,
     "end_time": "2021-10-26T14:39:58.329215",
     "exception": false,
     "start_time": "2021-10-26T14:39:58.270887",
     "status": "completed"
    },
    "tags": [],
    "ExecuteTime": {
     "end_time": "2023-12-03T14:23:59.964995Z",
     "start_time": "2023-12-03T14:23:59.848728Z"
    }
   },
   "outputs": [],
   "source": [
    "# fill missing values using mode of the categorical column\n",
    "df['Embarked'] = df['Embarked'].fillna(df['Embarked'].mode()[0])"
   ]
  },
  {
   "cell_type": "markdown",
   "id": "4bdc1ace",
   "metadata": {
    "papermill": {
     "duration": 0.049573,
     "end_time": "2021-10-26T14:39:58.428350",
     "exception": false,
     "start_time": "2021-10-26T14:39:58.378777",
     "status": "completed"
    },
    "tags": []
   },
   "source": [
    "## Log transformation for uniform data distribution"
   ]
  },
  {
   "cell_type": "code",
   "execution_count": 26,
   "id": "6c453ad5",
   "metadata": {
    "execution": {
     "iopub.execute_input": "2021-10-26T14:39:58.531610Z",
     "iopub.status.busy": "2021-10-26T14:39:58.531015Z",
     "iopub.status.idle": "2021-10-26T14:39:58.844928Z",
     "shell.execute_reply": "2021-10-26T14:39:58.845420Z",
     "shell.execute_reply.started": "2021-10-26T13:56:46.117505Z"
    },
    "papermill": {
     "duration": 0.367478,
     "end_time": "2021-10-26T14:39:58.845612",
     "exception": false,
     "start_time": "2021-10-26T14:39:58.478134",
     "status": "completed"
    },
    "tags": [],
    "ExecuteTime": {
     "end_time": "2023-12-03T14:24:04.253887Z",
     "start_time": "2023-12-03T14:24:01.892790Z"
    }
   },
   "outputs": [
    {
     "data": {
      "text/plain": "<Axes: xlabel='Fare', ylabel='Density'>"
     },
     "execution_count": 26,
     "metadata": {},
     "output_type": "execute_result"
    },
    {
     "data": {
      "text/plain": "<Figure size 640x480 with 1 Axes>",
      "image/png": "[encoded data removed]"
     },
     "metadata": {},
     "output_type": "display_data"
    }
   ],
   "source": [
    "sns.distplot(df['Fare'])"
   ]
  },
  {
   "cell_type": "code",
   "execution_count": 27,
   "id": "2eeeae34",
   "metadata": {
    "execution": {
     "iopub.execute_input": "2021-10-26T14:39:58.952173Z",
     "iopub.status.busy": "2021-10-26T14:39:58.951549Z",
     "iopub.status.idle": "2021-10-26T14:39:58.955511Z",
     "shell.execute_reply": "2021-10-26T14:39:58.956003Z",
     "shell.execute_reply.started": "2021-10-26T13:56:46.796655Z"
    },
    "papermill": {
     "duration": 0.058977,
     "end_time": "2021-10-26T14:39:58.956180",
     "exception": false,
     "start_time": "2021-10-26T14:39:58.897203",
     "status": "completed"
    },
    "tags": [],
    "ExecuteTime": {
     "end_time": "2023-12-03T14:24:05.510074Z",
     "start_time": "2023-12-03T14:24:05.413875Z"
    }
   },
   "outputs": [],
   "source": [
    "df['Fare'] = np.log(df['Fare']+1)"
   ]
  },
  {
   "cell_type": "code",
   "execution_count": 28,
   "id": "29ef8866",
   "metadata": {
    "execution": {
     "iopub.execute_input": "2021-10-26T14:39:59.065143Z",
     "iopub.status.busy": "2021-10-26T14:39:59.064527Z",
     "iopub.status.idle": "2021-10-26T14:39:59.347455Z",
     "shell.execute_reply": "2021-10-26T14:39:59.346876Z",
     "shell.execute_reply.started": "2021-10-26T13:56:48.243426Z"
    },
    "papermill": {
     "duration": 0.336811,
     "end_time": "2021-10-26T14:39:59.347631",
     "exception": false,
     "start_time": "2021-10-26T14:39:59.010820",
     "status": "completed"
    },
    "tags": [],
    "ExecuteTime": {
     "end_time": "2023-12-03T14:24:10.188754Z",
     "start_time": "2023-12-03T14:24:07.712021Z"
    }
   },
   "outputs": [
    {
     "data": {
      "text/plain": "<Axes: xlabel='Fare', ylabel='Density'>"
     },
     "execution_count": 28,
     "metadata": {},
     "output_type": "execute_result"
    },
    {
     "data": {
      "text/plain": "<Figure size 640x480 with 1 Axes>",
      "image/png": "[encoded data removed]"
     },
     "metadata": {},
     "output_type": "display_data"
    }
   ],
   "source": [
    "sns.distplot(df['Fare'])"
   ]
  },
  {
   "cell_type": "markdown",
   "id": "33e58957",
   "metadata": {
    "papermill": {
     "duration": 0.051724,
     "end_time": "2021-10-26T14:39:59.451308",
     "exception": false,
     "start_time": "2021-10-26T14:39:59.399584",
     "status": "completed"
    },
    "tags": []
   },
   "source": [
    "## Correlation Matrix"
   ]
  },
  {
   "cell_type": "code",
   "execution_count": 31,
   "id": "fa618375",
   "metadata": {
    "execution": {
     "iopub.execute_input": "2021-10-26T14:39:59.559935Z",
     "iopub.status.busy": "2021-10-26T14:39:59.558950Z",
     "iopub.status.idle": "2021-10-26T14:40:00.134396Z",
     "shell.execute_reply": "2021-10-26T14:40:00.134865Z",
     "shell.execute_reply.started": "2021-10-26T13:56:50.439863Z"
    },
    "papermill": {
     "duration": 0.631059,
     "end_time": "2021-10-26T14:40:00.135031",
     "exception": false,
     "start_time": "2021-10-26T14:39:59.503972",
     "status": "completed"
    },
    "tags": [],
    "ExecuteTime": {
     "end_time": "2023-12-03T14:25:00.650225Z",
     "start_time": "2023-12-03T14:24:56.828024Z"
    }
   },
   "outputs": [
    {
     "data": {
      "text/plain": "<Axes: >"
     },
     "execution_count": 31,
     "metadata": {},
     "output_type": "execute_result"
    },
    {
     "data": {
      "text/plain": "<Figure size 1500x900 with 2 Axes>",
      "image/png": "[encoded data removed]"
     },
     "metadata": {},
     "output_type": "display_data"
    }
   ],
   "source": [
    "corr = df.corr(numeric_only=True)\n",
    "plt.figure(figsize=(15, 9))\n",
    "sns.heatmap(corr, annot=True, cmap='coolwarm')"
   ]
  },
  {
   "cell_type": "code",
   "execution_count": 32,
   "id": "e3ea1303",
   "metadata": {
    "execution": {
     "iopub.execute_input": "2021-10-26T14:40:00.259119Z",
     "iopub.status.busy": "2021-10-26T14:40:00.258303Z",
     "iopub.status.idle": "2021-10-26T14:40:00.261614Z",
     "shell.execute_reply": "2021-10-26T14:40:00.262182Z",
     "shell.execute_reply.started": "2021-10-26T14:06:14.643056Z"
    },
    "papermill": {
     "duration": 0.073753,
     "end_time": "2021-10-26T14:40:00.262390",
     "exception": false,
     "start_time": "2021-10-26T14:40:00.188637",
     "status": "completed"
    },
    "tags": [],
    "ExecuteTime": {
     "end_time": "2023-12-03T14:25:04.000726Z",
     "start_time": "2023-12-03T14:25:03.914587Z"
    }
   },
   "outputs": [
    {
     "data": {
      "text/plain": "   PassengerId  Survived  Pclass  \\\n0            1       0.0       3   \n1            2       1.0       1   \n2            3       1.0       3   \n3            4       1.0       1   \n4            5       0.0       3   \n\n                                                Name     Sex   Age  SibSp  \\\n0                            Braund, Mr. Owen Harris    male  22.0      1   \n1  Cumings, Mrs. John Bradley (Florence Briggs Th...  female  38.0      1   \n2                             Heikkinen, Miss. Laina  female  26.0      0   \n3       Futrelle, Mrs. Jacques Heath (Lily May Peel)  female  35.0      1   \n4                           Allen, Mr. William Henry    male  35.0      0   \n\n   Parch            Ticket      Fare Embarked  \n0      0         A/5 21171  2.110213        S  \n1      0          PC 17599  4.280593        C  \n2      0  STON/O2. 3101282  2.188856        S  \n3      0            113803  3.990834        S  \n4      0            373450  2.202765        S  ",
      "text/html": "<div>\n<style scoped>\n    .dataframe tbody tr th:only-of-type {\n        vertical-align: middle;\n    }\n\n    .dataframe tbody tr th {\n        vertical-align: top;\n    }\n\n    .dataframe thead th {\n        text-align: right;\n    }\n</style>\n<table border=\"1\" class=\"dataframe\">\n  <thead>\n    <tr style=\"text-align: right;\">\n      <th></th>\n      <th>PassengerId</th>\n      <th>Survived</th>\n      <th>Pclass</th>\n      <th>Name</th>\n      <th>Sex</th>\n      <th>Age</th>\n      <th>SibSp</th>\n      <th>Parch</th>\n      <th>Ticket</th>\n      <th>Fare</th>\n      <th>Embarked</th>\n    </tr>\n  </thead>\n  <tbody>\n    <tr>\n      <th>0</th>\n      <td>1</td>\n      <td>0.0</td>\n      <td>3</td>\n      <td>Braund, Mr. Owen Harris</td>\n      <td>male</td>\n      <td>22.0</td>\n      <td>1</td>\n      <td>0</td>\n      <td>A/5 21171</td>\n      <td>2.110213</td>\n      <td>S</td>\n    </tr>\n    <tr>\n      <th>1</th>\n      <td>2</td>\n      <td>1.0</td>\n      <td>1</td>\n      <td>Cumings, Mrs. John Bradley (Florence Briggs Th...</td>\n      <td>female</td>\n      <td>38.0</td>\n      <td>1</td>\n      <td>0</td>\n      <td>PC 17599</td>\n      <td>4.280593</td>\n      <td>C</td>\n    </tr>\n    <tr>\n      <th>2</th>\n      <td>3</td>\n      <td>1.0</td>\n      <td>3</td>\n      <td>Heikkinen, Miss. Laina</td>\n      <td>female</td>\n      <td>26.0</td>\n      <td>0</td>\n      <td>0</td>\n      <td>STON/O2. 3101282</td>\n      <td>2.188856</td>\n      <td>S</td>\n    </tr>\n    <tr>\n      <th>3</th>\n      <td>4</td>\n      <td>1.0</td>\n      <td>1</td>\n      <td>Futrelle, Mrs. Jacques Heath (Lily May Peel)</td>\n      <td>female</td>\n      <td>35.0</td>\n      <td>1</td>\n      <td>0</td>\n      <td>113803</td>\n      <td>3.990834</td>\n      <td>S</td>\n    </tr>\n    <tr>\n      <th>4</th>\n      <td>5</td>\n      <td>0.0</td>\n      <td>3</td>\n      <td>Allen, Mr. William Henry</td>\n      <td>male</td>\n      <td>35.0</td>\n      <td>0</td>\n      <td>0</td>\n      <td>373450</td>\n      <td>2.202765</td>\n      <td>S</td>\n    </tr>\n  </tbody>\n</table>\n</div>"
     },
     "execution_count": 32,
     "metadata": {},
     "output_type": "execute_result"
    }
   ],
   "source": [
    "df.head()"
   ]
  },
  {
   "cell_type": "code",
   "execution_count": 33,
   "id": "a7743828",
   "metadata": {
    "execution": {
     "iopub.execute_input": "2021-10-26T14:40:00.377189Z",
     "iopub.status.busy": "2021-10-26T14:40:00.376556Z",
     "iopub.status.idle": "2021-10-26T14:40:00.389911Z",
     "shell.execute_reply": "2021-10-26T14:40:00.390437Z",
     "shell.execute_reply.started": "2021-10-26T14:07:57.367903Z"
    },
    "papermill": {
     "duration": 0.07386,
     "end_time": "2021-10-26T14:40:00.390607",
     "exception": false,
     "start_time": "2021-10-26T14:40:00.316747",
     "status": "completed"
    },
    "tags": [],
    "ExecuteTime": {
     "end_time": "2023-12-03T14:25:06.219976Z",
     "start_time": "2023-12-03T14:25:05.891151Z"
    }
   },
   "outputs": [
    {
     "data": {
      "text/plain": "   PassengerId  Survived  Pclass     Sex   Age  SibSp  Parch      Fare  \\\n0            1       0.0       3    male  22.0      1      0  2.110213   \n1            2       1.0       1  female  38.0      1      0  4.280593   \n2            3       1.0       3  female  26.0      0      0  2.188856   \n3            4       1.0       1  female  35.0      1      0  3.990834   \n4            5       0.0       3    male  35.0      0      0  2.202765   \n\n  Embarked  \n0        S  \n1        C  \n2        S  \n3        S  \n4        S  ",
      "text/html": "<div>\n<style scoped>\n    .dataframe tbody tr th:only-of-type {\n        vertical-align: middle;\n    }\n\n    .dataframe tbody tr th {\n        vertical-align: top;\n    }\n\n    .dataframe thead th {\n        text-align: right;\n    }\n</style>\n<table border=\"1\" class=\"dataframe\">\n  <thead>\n    <tr style=\"text-align: right;\">\n      <th></th>\n      <th>PassengerId</th>\n      <th>Survived</th>\n      <th>Pclass</th>\n      <th>Sex</th>\n      <th>Age</th>\n      <th>SibSp</th>\n      <th>Parch</th>\n      <th>Fare</th>\n      <th>Embarked</th>\n    </tr>\n  </thead>\n  <tbody>\n    <tr>\n      <th>0</th>\n      <td>1</td>\n      <td>0.0</td>\n      <td>3</td>\n      <td>male</td>\n      <td>22.0</td>\n      <td>1</td>\n      <td>0</td>\n      <td>2.110213</td>\n      <td>S</td>\n    </tr>\n    <tr>\n      <th>1</th>\n      <td>2</td>\n      <td>1.0</td>\n      <td>1</td>\n      <td>female</td>\n      <td>38.0</td>\n      <td>1</td>\n      <td>0</td>\n      <td>4.280593</td>\n      <td>C</td>\n    </tr>\n    <tr>\n      <th>2</th>\n      <td>3</td>\n      <td>1.0</td>\n      <td>3</td>\n      <td>female</td>\n      <td>26.0</td>\n      <td>0</td>\n      <td>0</td>\n      <td>2.188856</td>\n      <td>S</td>\n    </tr>\n    <tr>\n      <th>3</th>\n      <td>4</td>\n      <td>1.0</td>\n      <td>1</td>\n      <td>female</td>\n      <td>35.0</td>\n      <td>1</td>\n      <td>0</td>\n      <td>3.990834</td>\n      <td>S</td>\n    </tr>\n    <tr>\n      <th>4</th>\n      <td>5</td>\n      <td>0.0</td>\n      <td>3</td>\n      <td>male</td>\n      <td>35.0</td>\n      <td>0</td>\n      <td>0</td>\n      <td>2.202765</td>\n      <td>S</td>\n    </tr>\n  </tbody>\n</table>\n</div>"
     },
     "execution_count": 33,
     "metadata": {},
     "output_type": "execute_result"
    }
   ],
   "source": [
    "## drop unnecessary columns\n",
    "df = df.drop(columns=['Name', 'Ticket'], axis=1)\n",
    "df.head()"
   ]
  },
  {
   "cell_type": "markdown",
   "id": "ade57ccd",
   "metadata": {
    "papermill": {
     "duration": 0.054625,
     "end_time": "2021-10-26T14:40:00.500134",
     "exception": false,
     "start_time": "2021-10-26T14:40:00.445509",
     "status": "completed"
    },
    "tags": []
   },
   "source": [
    "## Label Encoding"
   ]
  },
  {
   "cell_type": "code",
   "execution_count": 34,
   "id": "401140f1",
   "metadata": {
    "execution": {
     "iopub.execute_input": "2021-10-26T14:40:00.616564Z",
     "iopub.status.busy": "2021-10-26T14:40:00.615870Z",
     "iopub.status.idle": "2021-10-26T14:40:00.738230Z",
     "shell.execute_reply": "2021-10-26T14:40:00.737756Z",
     "shell.execute_reply.started": "2021-10-26T14:09:40.532050Z"
    },
    "papermill": {
     "duration": 0.182109,
     "end_time": "2021-10-26T14:40:00.738396",
     "exception": false,
     "start_time": "2021-10-26T14:40:00.556287",
     "status": "completed"
    },
    "tags": [],
    "ExecuteTime": {
     "end_time": "2023-12-03T14:25:10.586732Z",
     "start_time": "2023-12-03T14:25:10.030220Z"
    }
   },
   "outputs": [
    {
     "data": {
      "text/plain": "   PassengerId  Survived  Pclass  Sex   Age  SibSp  Parch      Fare  Embarked\n0            1       0.0       3    1  22.0      1      0  2.110213         2\n1            2       1.0       1    0  38.0      1      0  4.280593         0\n2            3       1.0       3    0  26.0      0      0  2.188856         2\n3            4       1.0       1    0  35.0      1      0  3.990834         2\n4            5       0.0       3    1  35.0      0      0  2.202765         2",
      "text/html": "<div>\n<style scoped>\n    .dataframe tbody tr th:only-of-type {\n        vertical-align: middle;\n    }\n\n    .dataframe tbody tr th {\n        vertical-align: top;\n    }\n\n    .dataframe thead th {\n        text-align: right;\n    }\n</style>\n<table border=\"1\" class=\"dataframe\">\n  <thead>\n    <tr style=\"text-align: right;\">\n      <th></th>\n      <th>PassengerId</th>\n      <th>Survived</th>\n      <th>Pclass</th>\n      <th>Sex</th>\n      <th>Age</th>\n      <th>SibSp</th>\n      <th>Parch</th>\n      <th>Fare</th>\n      <th>Embarked</th>\n    </tr>\n  </thead>\n  <tbody>\n    <tr>\n      <th>0</th>\n      <td>1</td>\n      <td>0.0</td>\n      <td>3</td>\n      <td>1</td>\n      <td>22.0</td>\n      <td>1</td>\n      <td>0</td>\n      <td>2.110213</td>\n      <td>2</td>\n    </tr>\n    <tr>\n      <th>1</th>\n      <td>2</td>\n      <td>1.0</td>\n      <td>1</td>\n      <td>0</td>\n      <td>38.0</td>\n      <td>1</td>\n      <td>0</td>\n      <td>4.280593</td>\n      <td>0</td>\n    </tr>\n    <tr>\n      <th>2</th>\n      <td>3</td>\n      <td>1.0</td>\n      <td>3</td>\n      <td>0</td>\n      <td>26.0</td>\n      <td>0</td>\n      <td>0</td>\n      <td>2.188856</td>\n      <td>2</td>\n    </tr>\n    <tr>\n      <th>3</th>\n      <td>4</td>\n      <td>1.0</td>\n      <td>1</td>\n      <td>0</td>\n      <td>35.0</td>\n      <td>1</td>\n      <td>0</td>\n      <td>3.990834</td>\n      <td>2</td>\n    </tr>\n    <tr>\n      <th>4</th>\n      <td>5</td>\n      <td>0.0</td>\n      <td>3</td>\n      <td>1</td>\n      <td>35.0</td>\n      <td>0</td>\n      <td>0</td>\n      <td>2.202765</td>\n      <td>2</td>\n    </tr>\n  </tbody>\n</table>\n</div>"
     },
     "execution_count": 34,
     "metadata": {},
     "output_type": "execute_result"
    }
   ],
   "source": [
    "from sklearn.preprocessing import LabelEncoder\n",
    "cols = ['Sex', 'Embarked']\n",
    "le = LabelEncoder()\n",
    "\n",
    "for col in cols:\n",
    "    df[col] = le.fit_transform(df[col])\n",
    "df.head()"
   ]
  },
  {
   "cell_type": "markdown",
   "id": "37aa5d2b",
   "metadata": {
    "papermill": {
     "duration": 0.056568,
     "end_time": "2021-10-26T14:40:00.850393",
     "exception": false,
     "start_time": "2021-10-26T14:40:00.793825",
     "status": "completed"
    },
    "tags": []
   },
   "source": [
    "## Train-Test Split"
   ]
  },
  {
   "cell_type": "code",
   "execution_count": 35,
   "id": "e0776be5",
   "metadata": {
    "execution": {
     "iopub.execute_input": "2021-10-26T14:40:00.965452Z",
     "iopub.status.busy": "2021-10-26T14:40:00.964833Z",
     "iopub.status.idle": "2021-10-26T14:40:00.967423Z",
     "shell.execute_reply": "2021-10-26T14:40:00.966931Z",
     "shell.execute_reply.started": "2021-10-26T14:11:45.454858Z"
    },
    "papermill": {
     "duration": 0.062281,
     "end_time": "2021-10-26T14:40:00.967568",
     "exception": false,
     "start_time": "2021-10-26T14:40:00.905287",
     "status": "completed"
    },
    "tags": [],
    "ExecuteTime": {
     "end_time": "2023-12-03T14:25:14.487241Z",
     "start_time": "2023-12-03T14:25:14.366107Z"
    }
   },
   "outputs": [],
   "source": [
    "train = df.iloc[:train_len, :]\n",
    "test = df.iloc[train_len:, :]"
   ]
  },
  {
   "cell_type": "code",
   "execution_count": 36,
   "id": "982ff30e",
   "metadata": {
    "execution": {
     "iopub.execute_input": "2021-10-26T14:40:01.083139Z",
     "iopub.status.busy": "2021-10-26T14:40:01.082545Z",
     "iopub.status.idle": "2021-10-26T14:40:01.094677Z",
     "shell.execute_reply": "2021-10-26T14:40:01.094144Z",
     "shell.execute_reply.started": "2021-10-26T14:11:51.292028Z"
    },
    "papermill": {
     "duration": 0.071803,
     "end_time": "2021-10-26T14:40:01.094826",
     "exception": false,
     "start_time": "2021-10-26T14:40:01.023023",
     "status": "completed"
    },
    "tags": [],
    "ExecuteTime": {
     "end_time": "2023-12-03T14:25:15.858704Z",
     "start_time": "2023-12-03T14:25:15.637658Z"
    }
   },
   "outputs": [
    {
     "data": {
      "text/plain": "   PassengerId  Survived  Pclass  Sex   Age  SibSp  Parch      Fare  Embarked\n0            1       0.0       3    1  22.0      1      0  2.110213         2\n1            2       1.0       1    0  38.0      1      0  4.280593         0\n2            3       1.0       3    0  26.0      0      0  2.188856         2\n3            4       1.0       1    0  35.0      1      0  3.990834         2\n4            5       0.0       3    1  35.0      0      0  2.202765         2",
      "text/html": "<div>\n<style scoped>\n    .dataframe tbody tr th:only-of-type {\n        vertical-align: middle;\n    }\n\n    .dataframe tbody tr th {\n        vertical-align: top;\n    }\n\n    .dataframe thead th {\n        text-align: right;\n    }\n</style>\n<table border=\"1\" class=\"dataframe\">\n  <thead>\n    <tr style=\"text-align: right;\">\n      <th></th>\n      <th>PassengerId</th>\n      <th>Survived</th>\n      <th>Pclass</th>\n      <th>Sex</th>\n      <th>Age</th>\n      <th>SibSp</th>\n      <th>Parch</th>\n      <th>Fare</th>\n      <th>Embarked</th>\n    </tr>\n  </thead>\n  <tbody>\n    <tr>\n      <th>0</th>\n      <td>1</td>\n      <td>0.0</td>\n      <td>3</td>\n      <td>1</td>\n      <td>22.0</td>\n      <td>1</td>\n      <td>0</td>\n      <td>2.110213</td>\n      <td>2</td>\n    </tr>\n    <tr>\n      <th>1</th>\n      <td>2</td>\n      <td>1.0</td>\n      <td>1</td>\n      <td>0</td>\n      <td>38.0</td>\n      <td>1</td>\n      <td>0</td>\n      <td>4.280593</td>\n      <td>0</td>\n    </tr>\n    <tr>\n      <th>2</th>\n      <td>3</td>\n      <td>1.0</td>\n      <td>3</td>\n      <td>0</td>\n      <td>26.0</td>\n      <td>0</td>\n      <td>0</td>\n      <td>2.188856</td>\n      <td>2</td>\n    </tr>\n    <tr>\n      <th>3</th>\n      <td>4</td>\n      <td>1.0</td>\n      <td>1</td>\n      <td>0</td>\n      <td>35.0</td>\n      <td>1</td>\n      <td>0</td>\n      <td>3.990834</td>\n      <td>2</td>\n    </tr>\n    <tr>\n      <th>4</th>\n      <td>5</td>\n      <td>0.0</td>\n      <td>3</td>\n      <td>1</td>\n      <td>35.0</td>\n      <td>0</td>\n      <td>0</td>\n      <td>2.202765</td>\n      <td>2</td>\n    </tr>\n  </tbody>\n</table>\n</div>"
     },
     "execution_count": 36,
     "metadata": {},
     "output_type": "execute_result"
    }
   ],
   "source": [
    "train.head()"
   ]
  },
  {
   "cell_type": "code",
   "execution_count": 37,
   "id": "0bdf1b78",
   "metadata": {
    "execution": {
     "iopub.execute_input": "2021-10-26T14:40:01.223932Z",
     "iopub.status.busy": "2021-10-26T14:40:01.214544Z",
     "iopub.status.idle": "2021-10-26T14:40:01.228037Z",
     "shell.execute_reply": "2021-10-26T14:40:01.227397Z",
     "shell.execute_reply.started": "2021-10-26T14:11:57.306026Z"
    },
    "papermill": {
     "duration": 0.074994,
     "end_time": "2021-10-26T14:40:01.228184",
     "exception": false,
     "start_time": "2021-10-26T14:40:01.153190",
     "status": "completed"
    },
    "tags": [],
    "ExecuteTime": {
     "end_time": "2023-12-03T14:25:17.852460Z",
     "start_time": "2023-12-03T14:25:17.520584Z"
    }
   },
   "outputs": [
    {
     "data": {
      "text/plain": "     PassengerId  Survived  Pclass  Sex   Age  SibSp  Parch      Fare  \\\n891          892       NaN       3    1  34.5      0      0  2.178064   \n892          893       NaN       3    0  47.0      1      0  2.079442   \n893          894       NaN       2    1  62.0      0      0  2.369075   \n894          895       NaN       3    1  27.0      0      0  2.268252   \n895          896       NaN       3    0  22.0      1      1  2.586824   \n\n     Embarked  \n891         1  \n892         2  \n893         1  \n894         2  \n895         2  ",
      "text/html": "<div>\n<style scoped>\n    .dataframe tbody tr th:only-of-type {\n        vertical-align: middle;\n    }\n\n    .dataframe tbody tr th {\n        vertical-align: top;\n    }\n\n    .dataframe thead th {\n        text-align: right;\n    }\n</style>\n<table border=\"1\" class=\"dataframe\">\n  <thead>\n    <tr style=\"text-align: right;\">\n      <th></th>\n      <th>PassengerId</th>\n      <th>Survived</th>\n      <th>Pclass</th>\n      <th>Sex</th>\n      <th>Age</th>\n      <th>SibSp</th>\n      <th>Parch</th>\n      <th>Fare</th>\n      <th>Embarked</th>\n    </tr>\n  </thead>\n  <tbody>\n    <tr>\n      <th>891</th>\n      <td>892</td>\n      <td>NaN</td>\n      <td>3</td>\n      <td>1</td>\n      <td>34.5</td>\n      <td>0</td>\n      <td>0</td>\n      <td>2.178064</td>\n      <td>1</td>\n    </tr>\n    <tr>\n      <th>892</th>\n      <td>893</td>\n      <td>NaN</td>\n      <td>3</td>\n      <td>0</td>\n      <td>47.0</td>\n      <td>1</td>\n      <td>0</td>\n      <td>2.079442</td>\n      <td>2</td>\n    </tr>\n    <tr>\n      <th>893</th>\n      <td>894</td>\n      <td>NaN</td>\n      <td>2</td>\n      <td>1</td>\n      <td>62.0</td>\n      <td>0</td>\n      <td>0</td>\n      <td>2.369075</td>\n      <td>1</td>\n    </tr>\n    <tr>\n      <th>894</th>\n      <td>895</td>\n      <td>NaN</td>\n      <td>3</td>\n      <td>1</td>\n      <td>27.0</td>\n      <td>0</td>\n      <td>0</td>\n      <td>2.268252</td>\n      <td>2</td>\n    </tr>\n    <tr>\n      <th>895</th>\n      <td>896</td>\n      <td>NaN</td>\n      <td>3</td>\n      <td>0</td>\n      <td>22.0</td>\n      <td>1</td>\n      <td>1</td>\n      <td>2.586824</td>\n      <td>2</td>\n    </tr>\n  </tbody>\n</table>\n</div>"
     },
     "execution_count": 37,
     "metadata": {},
     "output_type": "execute_result"
    }
   ],
   "source": [
    "test.head()"
   ]
  },
  {
   "cell_type": "code",
   "execution_count": 38,
   "id": "919d59d5",
   "metadata": {
    "execution": {
     "iopub.execute_input": "2021-10-26T14:40:01.349079Z",
     "iopub.status.busy": "2021-10-26T14:40:01.347672Z",
     "iopub.status.idle": "2021-10-26T14:40:01.352199Z",
     "shell.execute_reply": "2021-10-26T14:40:01.351668Z",
     "shell.execute_reply.started": "2021-10-26T14:13:29.102488Z"
    },
    "papermill": {
     "duration": 0.066526,
     "end_time": "2021-10-26T14:40:01.352355",
     "exception": false,
     "start_time": "2021-10-26T14:40:01.285829",
     "status": "completed"
    },
    "tags": [],
    "ExecuteTime": {
     "end_time": "2023-12-03T14:25:19.811801Z",
     "start_time": "2023-12-03T14:25:19.684346Z"
    }
   },
   "outputs": [],
   "source": [
    "# input split\n",
    "X = train.drop(columns=['PassengerId', 'Survived'], axis=1)\n",
    "y = train['Survived']"
   ]
  },
  {
   "cell_type": "code",
   "execution_count": 39,
   "id": "cdd472cb",
   "metadata": {
    "execution": {
     "iopub.execute_input": "2021-10-26T14:40:01.474332Z",
     "iopub.status.busy": "2021-10-26T14:40:01.473685Z",
     "iopub.status.idle": "2021-10-26T14:40:01.482336Z",
     "shell.execute_reply": "2021-10-26T14:40:01.482819Z",
     "shell.execute_reply.started": "2021-10-26T14:13:42.844559Z"
    },
    "papermill": {
     "duration": 0.073156,
     "end_time": "2021-10-26T14:40:01.483008",
     "exception": false,
     "start_time": "2021-10-26T14:40:01.409852",
     "status": "completed"
    },
    "tags": [],
    "ExecuteTime": {
     "end_time": "2023-12-03T14:25:21.808676Z",
     "start_time": "2023-12-03T14:25:21.603024Z"
    }
   },
   "outputs": [
    {
     "data": {
      "text/plain": "   Pclass  Sex   Age  SibSp  Parch      Fare  Embarked\n0       3    1  22.0      1      0  2.110213         2\n1       1    0  38.0      1      0  4.280593         0\n2       3    0  26.0      0      0  2.188856         2\n3       1    0  35.0      1      0  3.990834         2\n4       3    1  35.0      0      0  2.202765         2",
      "text/html": "<div>\n<style scoped>\n    .dataframe tbody tr th:only-of-type {\n        vertical-align: middle;\n    }\n\n    .dataframe tbody tr th {\n        vertical-align: top;\n    }\n\n    .dataframe thead th {\n        text-align: right;\n    }\n</style>\n<table border=\"1\" class=\"dataframe\">\n  <thead>\n    <tr style=\"text-align: right;\">\n      <th></th>\n      <th>Pclass</th>\n      <th>Sex</th>\n      <th>Age</th>\n      <th>SibSp</th>\n      <th>Parch</th>\n      <th>Fare</th>\n      <th>Embarked</th>\n    </tr>\n  </thead>\n  <tbody>\n    <tr>\n      <th>0</th>\n      <td>3</td>\n      <td>1</td>\n      <td>22.0</td>\n      <td>1</td>\n      <td>0</td>\n      <td>2.110213</td>\n      <td>2</td>\n    </tr>\n    <tr>\n      <th>1</th>\n      <td>1</td>\n      <td>0</td>\n      <td>38.0</td>\n      <td>1</td>\n      <td>0</td>\n      <td>4.280593</td>\n      <td>0</td>\n    </tr>\n    <tr>\n      <th>2</th>\n      <td>3</td>\n      <td>0</td>\n      <td>26.0</td>\n      <td>0</td>\n      <td>0</td>\n      <td>2.188856</td>\n      <td>2</td>\n    </tr>\n    <tr>\n      <th>3</th>\n      <td>1</td>\n      <td>0</td>\n      <td>35.0</td>\n      <td>1</td>\n      <td>0</td>\n      <td>3.990834</td>\n      <td>2</td>\n    </tr>\n    <tr>\n      <th>4</th>\n      <td>3</td>\n      <td>1</td>\n      <td>35.0</td>\n      <td>0</td>\n      <td>0</td>\n      <td>2.202765</td>\n      <td>2</td>\n    </tr>\n  </tbody>\n</table>\n</div>"
     },
     "execution_count": 39,
     "metadata": {},
     "output_type": "execute_result"
    }
   ],
   "source": [
    "X.head()"
   ]
  },
  {
   "cell_type": "markdown",
   "id": "c38aba4a",
   "metadata": {
    "papermill": {
     "duration": 0.05648,
     "end_time": "2021-10-26T14:40:01.595542",
     "exception": false,
     "start_time": "2021-10-26T14:40:01.539062",
     "status": "completed"
    },
    "tags": []
   },
   "source": [
    "## Model Training"
   ]
  },
  {
   "cell_type": "code",
   "execution_count": 40,
   "id": "2ab207c7",
   "metadata": {
    "execution": {
     "iopub.execute_input": "2021-10-26T14:40:01.711591Z",
     "iopub.status.busy": "2021-10-26T14:40:01.710790Z",
     "iopub.status.idle": "2021-10-26T14:40:01.777518Z",
     "shell.execute_reply": "2021-10-26T14:40:01.776905Z",
     "shell.execute_reply.started": "2021-10-26T14:24:14.689882Z"
    },
    "papermill": {
     "duration": 0.125748,
     "end_time": "2021-10-26T14:40:01.777684",
     "exception": false,
     "start_time": "2021-10-26T14:40:01.651936",
     "status": "completed"
    },
    "tags": [],
    "ExecuteTime": {
     "end_time": "2023-12-03T14:25:25.688614Z",
     "start_time": "2023-12-03T14:25:25.187195Z"
    }
   },
   "outputs": [],
   "source": [
    "from sklearn.model_selection import train_test_split, cross_val_score\n",
    "# classify column\n",
    "def classify(model):\n",
    "    x_train, x_test, y_train, y_test = train_test_split(X, y, test_size=0.25, random_state=42)\n",
    "    model.fit(x_train, y_train)\n",
    "    print('Accuracy:', model.score(x_test, y_test))\n",
    "    \n",
    "    score = cross_val_score(model, X, y, cv=5)\n",
    "    print('CV Score:', np.mean(score))"
   ]
  },
  {
   "cell_type": "code",
   "execution_count": 41,
   "id": "13ae26c6",
   "metadata": {
    "execution": {
     "iopub.execute_input": "2021-10-26T14:40:01.903363Z",
     "iopub.status.busy": "2021-10-26T14:40:01.902779Z",
     "iopub.status.idle": "2021-10-26T14:40:02.272377Z",
     "shell.execute_reply": "2021-10-26T14:40:02.271877Z",
     "shell.execute_reply.started": "2021-10-26T14:24:15.464833Z"
    },
    "papermill": {
     "duration": 0.43207,
     "end_time": "2021-10-26T14:40:02.272542",
     "exception": false,
     "start_time": "2021-10-26T14:40:01.840472",
     "status": "completed"
    },
    "tags": [],
    "ExecuteTime": {
     "end_time": "2023-12-03T14:25:27.933746Z",
     "start_time": "2023-12-03T14:25:26.973443Z"
    }
   },
   "outputs": [
    {
     "name": "stdout",
     "output_type": "stream",
     "text": [
      "Accuracy: 0.8071748878923767\n",
      "CV Score: 0.7833971502102819\n"
     ]
    }
   ],
   "source": [
    "from sklearn.linear_model import LogisticRegression\n",
    "model = LogisticRegression()\n",
    "classify(model)"
   ]
  },
  {
   "cell_type": "code",
   "execution_count": 42,
   "id": "c6b2936f",
   "metadata": {
    "execution": {
     "iopub.execute_input": "2021-10-26T14:40:02.389536Z",
     "iopub.status.busy": "2021-10-26T14:40:02.388941Z",
     "iopub.status.idle": "2021-10-26T14:40:02.518843Z",
     "shell.execute_reply": "2021-10-26T14:40:02.517948Z",
     "shell.execute_reply.started": "2021-10-26T14:24:16.297569Z"
    },
    "papermill": {
     "duration": 0.190053,
     "end_time": "2021-10-26T14:40:02.519031",
     "exception": false,
     "start_time": "2021-10-26T14:40:02.328978",
     "status": "completed"
    },
    "tags": [],
    "ExecuteTime": {
     "end_time": "2023-12-03T14:25:29.316446Z",
     "start_time": "2023-12-03T14:25:28.888536Z"
    }
   },
   "outputs": [
    {
     "name": "stdout",
     "output_type": "stream",
     "text": [
      "Accuracy: 0.7219730941704036\n",
      "CV Score: 0.7733036218693113\n"
     ]
    }
   ],
   "source": [
    "from sklearn.tree import DecisionTreeClassifier\n",
    "model = DecisionTreeClassifier()\n",
    "classify(model)"
   ]
  },
  {
   "cell_type": "code",
   "execution_count": 43,
   "id": "c19492dd",
   "metadata": {
    "execution": {
     "iopub.execute_input": "2021-10-26T14:40:02.639633Z",
     "iopub.status.busy": "2021-10-26T14:40:02.638829Z",
     "iopub.status.idle": "2021-10-26T14:40:03.768778Z",
     "shell.execute_reply": "2021-10-26T14:40:03.768207Z",
     "shell.execute_reply.started": "2021-10-26T14:24:17.976407Z"
    },
    "papermill": {
     "duration": 1.191513,
     "end_time": "2021-10-26T14:40:03.768926",
     "exception": false,
     "start_time": "2021-10-26T14:40:02.577413",
     "status": "completed"
    },
    "tags": [],
    "ExecuteTime": {
     "end_time": "2023-12-03T14:25:37.695788Z",
     "start_time": "2023-12-03T14:25:30.905360Z"
    }
   },
   "outputs": [
    {
     "name": "stdout",
     "output_type": "stream",
     "text": [
      "Accuracy: 0.820627802690583\n",
      "CV Score: 0.8092272926997678\n"
     ]
    }
   ],
   "source": [
    "from sklearn.ensemble import RandomForestClassifier\n",
    "model = RandomForestClassifier()\n",
    "classify(model)"
   ]
  },
  {
   "cell_type": "code",
   "execution_count": 44,
   "id": "c52e6856",
   "metadata": {
    "execution": {
     "iopub.execute_input": "2021-10-26T14:40:03.886379Z",
     "iopub.status.busy": "2021-10-26T14:40:03.885812Z",
     "iopub.status.idle": "2021-10-26T14:40:04.796203Z",
     "shell.execute_reply": "2021-10-26T14:40:04.795428Z",
     "shell.execute_reply.started": "2021-10-26T14:25:06.863911Z"
    },
    "papermill": {
     "duration": 0.969994,
     "end_time": "2021-10-26T14:40:04.796414",
     "exception": false,
     "start_time": "2021-10-26T14:40:03.826420",
     "status": "completed"
    },
    "tags": [],
    "ExecuteTime": {
     "end_time": "2023-12-03T14:25:40.295787Z",
     "start_time": "2023-12-03T14:25:37.668349Z"
    }
   },
   "outputs": [
    {
     "name": "stdout",
     "output_type": "stream",
     "text": [
      "Accuracy: 0.7982062780269058\n",
      "CV Score: 0.7957692549118072\n"
     ]
    }
   ],
   "source": [
    "from sklearn.ensemble import ExtraTreesClassifier\n",
    "model = ExtraTreesClassifier()\n",
    "classify(model)"
   ]
  },
  {
   "cell_type": "code",
   "execution_count": 45,
   "id": "c03580ee",
   "metadata": {
    "execution": {
     "iopub.execute_input": "2021-10-26T14:40:04.917125Z",
     "iopub.status.busy": "2021-10-26T14:40:04.916404Z",
     "iopub.status.idle": "2021-10-26T14:40:05.512169Z",
     "shell.execute_reply": "2021-10-26T14:40:05.512693Z",
     "shell.execute_reply.started": "2021-10-26T14:25:34.368204Z"
    },
    "papermill": {
     "duration": 0.658113,
     "end_time": "2021-10-26T14:40:05.512880",
     "exception": false,
     "start_time": "2021-10-26T14:40:04.854767",
     "status": "completed"
    },
    "tags": [],
    "ExecuteTime": {
     "end_time": "2023-12-03T14:25:47.846847Z",
     "start_time": "2023-12-03T14:25:41.356205Z"
    }
   },
   "outputs": [
    {
     "name": "stdout",
     "output_type": "stream",
     "text": [
      "Accuracy: 0.7847533632286996\n",
      "CV Score: 0.8148327160881301\n"
     ]
    }
   ],
   "source": [
    "from xgboost import XGBClassifier\n",
    "model = XGBClassifier()\n",
    "classify(model)"
   ]
  },
  {
   "cell_type": "code",
   "execution_count": null,
   "id": "c2103438",
   "metadata": {
    "execution": {
     "iopub.execute_input": "2021-10-26T14:40:05.634090Z",
     "iopub.status.busy": "2021-10-26T14:40:05.633471Z",
     "iopub.status.idle": "2021-10-26T14:40:07.368906Z",
     "shell.execute_reply": "2021-10-26T14:40:07.370036Z",
     "shell.execute_reply.started": "2021-10-26T14:26:13.583660Z"
    },
    "papermill": {
     "duration": 1.79848,
     "end_time": "2021-10-26T14:40:07.370311",
     "exception": false,
     "start_time": "2021-10-26T14:40:05.571831",
     "status": "completed"
    },
    "tags": []
   },
   "outputs": [],
   "source": [
    "from lightgbm import LGBMClassifier\n",
    "model = LGBMClassifier()\n",
    "classify(model)"
   ]
  },
  {
   "cell_type": "markdown",
   "id": "cd7d48af",
   "metadata": {
    "papermill": {
     "duration": 0.060015,
     "end_time": "2021-10-26T14:40:13.011975",
     "exception": false,
     "start_time": "2021-10-26T14:40:12.951960",
     "status": "completed"
    },
    "tags": []
   },
   "source": [
    "## Complete Model Training with Full Data"
   ]
  },
  {
   "cell_type": "code",
   "execution_count": 46,
   "id": "784e7b43",
   "metadata": {
    "execution": {
     "iopub.execute_input": "2021-10-26T14:40:13.356973Z",
     "iopub.status.busy": "2021-10-26T14:40:13.355981Z",
     "iopub.status.idle": "2021-10-26T14:40:13.359495Z",
     "shell.execute_reply": "2021-10-26T14:40:13.359916Z",
     "shell.execute_reply.started": "2021-10-26T14:28:48.451537Z"
    },
    "papermill": {
     "duration": 0.076399,
     "end_time": "2021-10-26T14:40:13.360082",
     "exception": false,
     "start_time": "2021-10-26T14:40:13.283683",
     "status": "completed"
    },
    "tags": [],
    "ExecuteTime": {
     "end_time": "2023-12-03T14:26:00.170096Z",
     "start_time": "2023-12-03T14:25:59.991279Z"
    }
   },
   "outputs": [
    {
     "data": {
      "text/plain": "     PassengerId  Survived  Pclass  Sex   Age  SibSp  Parch      Fare  \\\n891          892       NaN       3    1  34.5      0      0  2.178064   \n892          893       NaN       3    0  47.0      1      0  2.079442   \n893          894       NaN       2    1  62.0      0      0  2.369075   \n894          895       NaN       3    1  27.0      0      0  2.268252   \n895          896       NaN       3    0  22.0      1      1  2.586824   \n\n     Embarked  \n891         1  \n892         2  \n893         1  \n894         2  \n895         2  ",
      "text/html": "<div>\n<style scoped>\n    .dataframe tbody tr th:only-of-type {\n        vertical-align: middle;\n    }\n\n    .dataframe tbody tr th {\n        vertical-align: top;\n    }\n\n    .dataframe thead th {\n        text-align: right;\n    }\n</style>\n<table border=\"1\" class=\"dataframe\">\n  <thead>\n    <tr style=\"text-align: right;\">\n      <th></th>\n      <th>PassengerId</th>\n      <th>Survived</th>\n      <th>Pclass</th>\n      <th>Sex</th>\n      <th>Age</th>\n      <th>SibSp</th>\n      <th>Parch</th>\n      <th>Fare</th>\n      <th>Embarked</th>\n    </tr>\n  </thead>\n  <tbody>\n    <tr>\n      <th>891</th>\n      <td>892</td>\n      <td>NaN</td>\n      <td>3</td>\n      <td>1</td>\n      <td>34.5</td>\n      <td>0</td>\n      <td>0</td>\n      <td>2.178064</td>\n      <td>1</td>\n    </tr>\n    <tr>\n      <th>892</th>\n      <td>893</td>\n      <td>NaN</td>\n      <td>3</td>\n      <td>0</td>\n      <td>47.0</td>\n      <td>1</td>\n      <td>0</td>\n      <td>2.079442</td>\n      <td>2</td>\n    </tr>\n    <tr>\n      <th>893</th>\n      <td>894</td>\n      <td>NaN</td>\n      <td>2</td>\n      <td>1</td>\n      <td>62.0</td>\n      <td>0</td>\n      <td>0</td>\n      <td>2.369075</td>\n      <td>1</td>\n    </tr>\n    <tr>\n      <th>894</th>\n      <td>895</td>\n      <td>NaN</td>\n      <td>3</td>\n      <td>1</td>\n      <td>27.0</td>\n      <td>0</td>\n      <td>0</td>\n      <td>2.268252</td>\n      <td>2</td>\n    </tr>\n    <tr>\n      <th>895</th>\n      <td>896</td>\n      <td>NaN</td>\n      <td>3</td>\n      <td>0</td>\n      <td>22.0</td>\n      <td>1</td>\n      <td>1</td>\n      <td>2.586824</td>\n      <td>2</td>\n    </tr>\n  </tbody>\n</table>\n</div>"
     },
     "execution_count": 46,
     "metadata": {},
     "output_type": "execute_result"
    }
   ],
   "source": [
    "test.head()"
   ]
  },
  {
   "cell_type": "code",
   "execution_count": 47,
   "id": "15fa3a48",
   "metadata": {
    "execution": {
     "iopub.execute_input": "2021-10-26T14:40:13.487356Z",
     "iopub.status.busy": "2021-10-26T14:40:13.486619Z",
     "iopub.status.idle": "2021-10-26T14:40:13.489331Z",
     "shell.execute_reply": "2021-10-26T14:40:13.488768Z",
     "shell.execute_reply.started": "2021-10-26T14:30:25.011271Z"
    },
    "papermill": {
     "duration": 0.068878,
     "end_time": "2021-10-26T14:40:13.489471",
     "exception": false,
     "start_time": "2021-10-26T14:40:13.420593",
     "status": "completed"
    },
    "tags": [],
    "ExecuteTime": {
     "end_time": "2023-12-03T14:26:03.264397Z",
     "start_time": "2023-12-03T14:26:02.757729Z"
    }
   },
   "outputs": [],
   "source": [
    "# input split for test data\n",
    "X_test = test.drop(columns=['PassengerId', 'Survived'], axis=1)"
   ]
  },
  {
   "cell_type": "code",
   "execution_count": 48,
   "id": "3c6edd36",
   "metadata": {
    "execution": {
     "iopub.execute_input": "2021-10-26T14:40:13.620838Z",
     "iopub.status.busy": "2021-10-26T14:40:13.617444Z",
     "iopub.status.idle": "2021-10-26T14:40:13.625103Z",
     "shell.execute_reply": "2021-10-26T14:40:13.624628Z",
     "shell.execute_reply.started": "2021-10-26T14:30:25.728443Z"
    },
    "papermill": {
     "duration": 0.075487,
     "end_time": "2021-10-26T14:40:13.625263",
     "exception": false,
     "start_time": "2021-10-26T14:40:13.549776",
     "status": "completed"
    },
    "tags": [],
    "ExecuteTime": {
     "end_time": "2023-12-03T14:26:06.038443Z",
     "start_time": "2023-12-03T14:26:05.831855Z"
    }
   },
   "outputs": [
    {
     "data": {
      "text/plain": "     Pclass  Sex   Age  SibSp  Parch      Fare  Embarked\n891       3    1  34.5      0      0  2.178064         1\n892       3    0  47.0      1      0  2.079442         2\n893       2    1  62.0      0      0  2.369075         1\n894       3    1  27.0      0      0  2.268252         2\n895       3    0  22.0      1      1  2.586824         2",
      "text/html": "<div>\n<style scoped>\n    .dataframe tbody tr th:only-of-type {\n        vertical-align: middle;\n    }\n\n    .dataframe tbody tr th {\n        vertical-align: top;\n    }\n\n    .dataframe thead th {\n        text-align: right;\n    }\n</style>\n<table border=\"1\" class=\"dataframe\">\n  <thead>\n    <tr style=\"text-align: right;\">\n      <th></th>\n      <th>Pclass</th>\n      <th>Sex</th>\n      <th>Age</th>\n      <th>SibSp</th>\n      <th>Parch</th>\n      <th>Fare</th>\n      <th>Embarked</th>\n    </tr>\n  </thead>\n  <tbody>\n    <tr>\n      <th>891</th>\n      <td>3</td>\n      <td>1</td>\n      <td>34.5</td>\n      <td>0</td>\n      <td>0</td>\n      <td>2.178064</td>\n      <td>1</td>\n    </tr>\n    <tr>\n      <th>892</th>\n      <td>3</td>\n      <td>0</td>\n      <td>47.0</td>\n      <td>1</td>\n      <td>0</td>\n      <td>2.079442</td>\n      <td>2</td>\n    </tr>\n    <tr>\n      <th>893</th>\n      <td>2</td>\n      <td>1</td>\n      <td>62.0</td>\n      <td>0</td>\n      <td>0</td>\n      <td>2.369075</td>\n      <td>1</td>\n    </tr>\n    <tr>\n      <th>894</th>\n      <td>3</td>\n      <td>1</td>\n      <td>27.0</td>\n      <td>0</td>\n      <td>0</td>\n      <td>2.268252</td>\n      <td>2</td>\n    </tr>\n    <tr>\n      <th>895</th>\n      <td>3</td>\n      <td>0</td>\n      <td>22.0</td>\n      <td>1</td>\n      <td>1</td>\n      <td>2.586824</td>\n      <td>2</td>\n    </tr>\n  </tbody>\n</table>\n</div>"
     },
     "execution_count": 48,
     "metadata": {},
     "output_type": "execute_result"
    }
   ],
   "source": [
    "X_test.head()"
   ]
  },
  {
   "cell_type": "code",
   "execution_count": 49,
   "id": "3bc32f1b",
   "metadata": {
    "execution": {
     "iopub.execute_input": "2021-10-26T14:40:13.755821Z",
     "iopub.status.busy": "2021-10-26T14:40:13.755129Z",
     "iopub.status.idle": "2021-10-26T14:40:13.768940Z",
     "shell.execute_reply": "2021-10-26T14:40:13.768394Z",
     "shell.execute_reply.started": "2021-10-26T14:30:31.019109Z"
    },
    "papermill": {
     "duration": 0.082263,
     "end_time": "2021-10-26T14:40:13.769079",
     "exception": false,
     "start_time": "2021-10-26T14:40:13.686816",
     "status": "completed"
    },
    "tags": [],
    "ExecuteTime": {
     "end_time": "2023-12-03T14:26:07.938730Z",
     "start_time": "2023-12-03T14:26:07.764485Z"
    }
   },
   "outputs": [
    {
     "data": {
      "text/plain": "array([0, 0, 0, 1, 1, 0, 0, 0, 1, 0, 0, 0, 1, 0, 1, 1, 0, 0, 1, 0, 1, 0,\n       1, 1, 1, 0, 1, 1, 1, 0, 0, 0, 0, 0, 1, 0, 0, 0, 0, 0, 0, 0, 0, 1,\n       1, 0, 0, 0, 1, 1, 0, 0, 1, 1, 0, 0, 0, 0, 0, 1, 0, 1, 0, 1, 1, 1,\n       0, 0, 0, 1, 1, 0, 0, 0, 1, 1, 0, 1, 0, 1, 1, 0, 0, 0, 1, 0, 1, 1,\n       1, 1, 0, 0, 0, 0, 0, 0, 1, 0, 0, 0, 1, 0, 0, 0, 1, 0, 0, 0, 0, 0,\n       0, 1, 1, 1, 1, 0, 0, 1, 1, 1, 1, 0, 1, 0, 0, 1, 0, 1, 0, 0, 0, 0,\n       0, 0, 0, 0, 0, 0, 0, 0, 0, 1, 0, 0, 1, 0, 0, 0, 0, 0, 1, 0, 0, 1,\n       0, 0, 1, 0, 1, 1, 1, 1, 1, 0, 0, 0, 0, 0, 1, 0, 0, 1, 0, 0, 0, 1,\n       1, 1, 1, 1, 0, 1, 1, 0, 1, 0, 1, 1, 0, 0, 0, 0, 0, 0, 1, 0, 1, 0,\n       0, 0, 1, 1, 0, 1, 0, 0, 1, 0, 1, 0, 0, 0, 0, 1, 0, 0, 1, 0, 1, 0,\n       1, 0, 1, 0, 0, 0, 0, 1, 0, 0, 0, 1, 0, 0, 1, 0, 1, 0, 1, 1, 0, 1,\n       0, 0, 0, 0, 1, 0, 1, 0, 1, 0, 1, 0, 0, 0, 0, 0, 1, 0, 0, 0, 1, 1,\n       0, 0, 0, 0, 0, 0, 0, 0, 1, 1, 0, 1, 0, 0, 0, 0, 0, 1, 1, 1, 0, 0,\n       0, 0, 0, 0, 0, 0, 0, 0, 0, 0, 1, 0, 0, 0, 0, 0, 0, 0, 1, 1, 0, 1,\n       0, 0, 0, 1, 0, 0, 1, 1, 0, 0, 1, 0, 0, 0, 0, 1, 1, 0, 1, 0, 0, 0,\n       1, 0, 0, 1, 0, 0, 1, 0, 0, 0, 0, 0, 0, 1, 0, 1, 0, 0, 0, 1, 1, 0,\n       0, 0, 0, 0, 1, 0, 0, 1, 0, 1, 1, 1, 1, 0, 0, 0, 1, 1, 0, 1, 0, 0,\n       1, 1, 0, 0, 0, 1, 0, 0, 1, 1, 0, 1, 0, 0, 0, 0, 0, 1, 0, 0, 0, 1,\n       0, 1, 0, 0, 1, 0, 1, 0, 0, 0, 0, 0, 1, 1, 1, 1, 1, 0, 1, 0, 0, 0])"
     },
     "execution_count": 49,
     "metadata": {},
     "output_type": "execute_result"
    }
   ],
   "source": [
    "pred = model.predict(X_test)\n",
    "pred"
   ]
  },
  {
   "cell_type": "markdown",
   "id": "2072b75e",
   "metadata": {
    "papermill": {
     "duration": 0.061044,
     "end_time": "2021-10-26T14:40:13.893390",
     "exception": false,
     "start_time": "2021-10-26T14:40:13.832346",
     "status": "completed"
    },
    "tags": []
   },
   "source": [
    "## Test Submission"
   ]
  },
  {
   "cell_type": "code",
   "execution_count": 50,
   "id": "88f711ee",
   "metadata": {
    "execution": {
     "iopub.execute_input": "2021-10-26T14:40:14.023573Z",
     "iopub.status.busy": "2021-10-26T14:40:14.022879Z",
     "iopub.status.idle": "2021-10-26T14:40:14.037946Z",
     "shell.execute_reply": "2021-10-26T14:40:14.037281Z",
     "shell.execute_reply.started": "2021-10-26T14:31:36.799477Z"
    },
    "papermill": {
     "duration": 0.081641,
     "end_time": "2021-10-26T14:40:14.038101",
     "exception": false,
     "start_time": "2021-10-26T14:40:13.956460",
     "status": "completed"
    },
    "tags": [],
    "ExecuteTime": {
     "end_time": "2023-12-03T14:26:16.355020Z",
     "start_time": "2023-12-03T14:26:16.193097Z"
    }
   },
   "outputs": [
    {
     "data": {
      "text/plain": "   PassengerId  Survived\n0          892         0\n1          893         1\n2          894         0\n3          895         0\n4          896         1",
      "text/html": "<div>\n<style scoped>\n    .dataframe tbody tr th:only-of-type {\n        vertical-align: middle;\n    }\n\n    .dataframe tbody tr th {\n        vertical-align: top;\n    }\n\n    .dataframe thead th {\n        text-align: right;\n    }\n</style>\n<table border=\"1\" class=\"dataframe\">\n  <thead>\n    <tr style=\"text-align: right;\">\n      <th></th>\n      <th>PassengerId</th>\n      <th>Survived</th>\n    </tr>\n  </thead>\n  <tbody>\n    <tr>\n      <th>0</th>\n      <td>892</td>\n      <td>0</td>\n    </tr>\n    <tr>\n      <th>1</th>\n      <td>893</td>\n      <td>1</td>\n    </tr>\n    <tr>\n      <th>2</th>\n      <td>894</td>\n      <td>0</td>\n    </tr>\n    <tr>\n      <th>3</th>\n      <td>895</td>\n      <td>0</td>\n    </tr>\n    <tr>\n      <th>4</th>\n      <td>896</td>\n      <td>1</td>\n    </tr>\n  </tbody>\n</table>\n</div>"
     },
     "execution_count": 50,
     "metadata": {},
     "output_type": "execute_result"
    }
   ],
   "source": [
    "sub = pd.read_csv('gender_submission.csv')\n",
    "sub.head()"
   ]
  },
  {
   "cell_type": "code",
   "execution_count": 51,
   "id": "53a46a4c",
   "metadata": {
    "execution": {
     "iopub.execute_input": "2021-10-26T14:40:14.165442Z",
     "iopub.status.busy": "2021-10-26T14:40:14.164824Z",
     "iopub.status.idle": "2021-10-26T14:40:14.175104Z",
     "shell.execute_reply": "2021-10-26T14:40:14.175559Z",
     "shell.execute_reply.started": "2021-10-26T14:39:07.214394Z"
    },
    "papermill": {
     "duration": 0.075318,
     "end_time": "2021-10-26T14:40:14.175740",
     "exception": false,
     "start_time": "2021-10-26T14:40:14.100422",
     "status": "completed"
    },
    "tags": [],
    "ExecuteTime": {
     "end_time": "2023-12-03T14:26:18.540329Z",
     "start_time": "2023-12-03T14:26:17.941087Z"
    }
   },
   "outputs": [
    {
     "name": "stdout",
     "output_type": "stream",
     "text": [
      "<class 'pandas.core.frame.DataFrame'>\n",
      "RangeIndex: 418 entries, 0 to 417\n",
      "Data columns (total 2 columns):\n",
      " #   Column       Non-Null Count  Dtype\n",
      "---  ------       --------------  -----\n",
      " 0   PassengerId  418 non-null    int64\n",
      " 1   Survived     418 non-null    int64\n",
      "dtypes: int64(2)\n",
      "memory usage: 6.7 KB\n"
     ]
    }
   ],
   "source": [
    "sub.info()"
   ]
  },
  {
   "cell_type": "code",
   "execution_count": 52,
   "id": "b34c63c5",
   "metadata": {
    "execution": {
     "iopub.execute_input": "2021-10-26T14:40:14.306143Z",
     "iopub.status.busy": "2021-10-26T14:40:14.305519Z",
     "iopub.status.idle": "2021-10-26T14:40:14.308189Z",
     "shell.execute_reply": "2021-10-26T14:40:14.307741Z",
     "shell.execute_reply.started": "2021-10-26T14:39:15.151826Z"
    },
    "papermill": {
     "duration": 0.070529,
     "end_time": "2021-10-26T14:40:14.308354",
     "exception": false,
     "start_time": "2021-10-26T14:40:14.237825",
     "status": "completed"
    },
    "tags": [],
    "ExecuteTime": {
     "end_time": "2023-12-03T14:26:21.651851Z",
     "start_time": "2023-12-03T14:26:21.564661Z"
    }
   },
   "outputs": [],
   "source": [
    "sub['Survived'] = pred\n",
    "sub['Survived'] = sub['Survived'].astype('int')"
   ]
  },
  {
   "cell_type": "code",
   "execution_count": 53,
   "id": "96e8f0f5",
   "metadata": {
    "execution": {
     "iopub.execute_input": "2021-10-26T14:40:14.444649Z",
     "iopub.status.busy": "2021-10-26T14:40:14.443999Z",
     "iopub.status.idle": "2021-10-26T14:40:14.446145Z",
     "shell.execute_reply": "2021-10-26T14:40:14.447053Z",
     "shell.execute_reply.started": "2021-10-26T14:39:21.663803Z"
    },
    "papermill": {
     "duration": 0.076149,
     "end_time": "2021-10-26T14:40:14.447221",
     "exception": false,
     "start_time": "2021-10-26T14:40:14.371072",
     "status": "completed"
    },
    "tags": [],
    "ExecuteTime": {
     "end_time": "2023-12-03T14:26:24.712870Z",
     "start_time": "2023-12-03T14:26:24.559715Z"
    }
   },
   "outputs": [
    {
     "name": "stdout",
     "output_type": "stream",
     "text": [
      "<class 'pandas.core.frame.DataFrame'>\n",
      "RangeIndex: 418 entries, 0 to 417\n",
      "Data columns (total 2 columns):\n",
      " #   Column       Non-Null Count  Dtype\n",
      "---  ------       --------------  -----\n",
      " 0   PassengerId  418 non-null    int64\n",
      " 1   Survived     418 non-null    int64\n",
      "dtypes: int64(2)\n",
      "memory usage: 6.7 KB\n"
     ]
    }
   ],
   "source": [
    "sub.info()"
   ]
  },
  {
   "cell_type": "code",
   "execution_count": 54,
   "id": "cb4552a5",
   "metadata": {
    "execution": {
     "iopub.execute_input": "2021-10-26T14:40:14.579640Z",
     "iopub.status.busy": "2021-10-26T14:40:14.578665Z",
     "iopub.status.idle": "2021-10-26T14:40:14.582696Z",
     "shell.execute_reply": "2021-10-26T14:40:14.582179Z",
     "shell.execute_reply.started": "2021-10-26T14:39:26.347124Z"
    },
    "papermill": {
     "duration": 0.073952,
     "end_time": "2021-10-26T14:40:14.582840",
     "exception": false,
     "start_time": "2021-10-26T14:40:14.508888",
     "status": "completed"
    },
    "tags": [],
    "ExecuteTime": {
     "end_time": "2023-12-03T14:26:27.418019Z",
     "start_time": "2023-12-03T14:26:27.298589Z"
    }
   },
   "outputs": [
    {
     "data": {
      "text/plain": "   PassengerId  Survived\n0          892         0\n1          893         0\n2          894         0\n3          895         1\n4          896         1",
      "text/html": "<div>\n<style scoped>\n    .dataframe tbody tr th:only-of-type {\n        vertical-align: middle;\n    }\n\n    .dataframe tbody tr th {\n        vertical-align: top;\n    }\n\n    .dataframe thead th {\n        text-align: right;\n    }\n</style>\n<table border=\"1\" class=\"dataframe\">\n  <thead>\n    <tr style=\"text-align: right;\">\n      <th></th>\n      <th>PassengerId</th>\n      <th>Survived</th>\n    </tr>\n  </thead>\n  <tbody>\n    <tr>\n      <th>0</th>\n      <td>892</td>\n      <td>0</td>\n    </tr>\n    <tr>\n      <th>1</th>\n      <td>893</td>\n      <td>0</td>\n    </tr>\n    <tr>\n      <th>2</th>\n      <td>894</td>\n      <td>0</td>\n    </tr>\n    <tr>\n      <th>3</th>\n      <td>895</td>\n      <td>1</td>\n    </tr>\n    <tr>\n      <th>4</th>\n      <td>896</td>\n      <td>1</td>\n    </tr>\n  </tbody>\n</table>\n</div>"
     },
     "execution_count": 54,
     "metadata": {},
     "output_type": "execute_result"
    }
   ],
   "source": [
    "sub.head()"
   ]
  },
  {
   "cell_type": "code",
   "execution_count": 55,
   "id": "296d6fc4",
   "metadata": {
    "execution": {
     "iopub.execute_input": "2021-10-26T14:40:14.713521Z",
     "iopub.status.busy": "2021-10-26T14:40:14.712839Z",
     "iopub.status.idle": "2021-10-26T14:40:14.718981Z",
     "shell.execute_reply": "2021-10-26T14:40:14.718390Z",
     "shell.execute_reply.started": "2021-10-26T14:39:28.857850Z"
    },
    "papermill": {
     "duration": 0.073297,
     "end_time": "2021-10-26T14:40:14.719115",
     "exception": false,
     "start_time": "2021-10-26T14:40:14.645818",
     "status": "completed"
    },
    "tags": [],
    "ExecuteTime": {
     "end_time": "2023-12-03T14:26:30.387310Z",
     "start_time": "2023-12-03T14:26:30.008616Z"
    }
   },
   "outputs": [],
   "source": [
    "sub.to_csv('submission.csv', index=False)"
   ]
  },
  {
   "cell_type": "code",
   "execution_count": null,
   "id": "f4c752f3",
   "metadata": {
    "papermill": {
     "duration": 0.062002,
     "end_time": "2021-10-26T14:40:14.844341",
     "exception": false,
     "start_time": "2021-10-26T14:40:14.782339",
     "status": "completed"
    },
    "tags": []
   },
   "outputs": [],
   "source": []
  },
  {
   "cell_type": "code",
   "execution_count": null,
   "id": "54f67b7d",
   "metadata": {
    "papermill": {
     "duration": 0.062958,
     "end_time": "2021-10-26T14:40:14.969741",
     "exception": false,
     "start_time": "2021-10-26T14:40:14.906783",
     "status": "completed"
    },
    "tags": []
   },
   "outputs": [],
   "source": []
  },
  {
   "cell_type": "code",
   "execution_count": null,
   "id": "5d92f513",
   "metadata": {
    "papermill": {
     "duration": 0.061686,
     "end_time": "2021-10-26T14:40:15.093961",
     "exception": false,
     "start_time": "2021-10-26T14:40:15.032275",
     "status": "completed"
    },
    "tags": []
   },
   "outputs": [],
   "source": []
  }
 ],
 "metadata": {
  "kernelspec": {
   "display_name": "Python 3",
   "language": "python",
   "name": "python3"
  },
  "language_info": {
   "codemirror_mode": {
    "name": "ipython",
    "version": 3
   },
   "file_extension": ".py",
   "mimetype": "text/x-python",
   "name": "python",
   "nbconvert_exporter": "python",
   "pygments_lexer": "ipython3",
   "version": "3.7.10"
  },
  "papermill": {
   "default_parameters": {},
   "duration": 32.130692,
   "end_time": "2021-10-26T14:40:15.967767",
   "environment_variables": {},
   "exception": null,
   "input_path": "__notebook__.ipynb",
   "output_path": "__notebook__.ipynb",
   "parameters": {},
   "start_time": "2021-10-26T14:39:43.837075",
   "version": "2.3.3"
  }
 },
 "nbformat": 4,
 "nbformat_minor": 5
}
